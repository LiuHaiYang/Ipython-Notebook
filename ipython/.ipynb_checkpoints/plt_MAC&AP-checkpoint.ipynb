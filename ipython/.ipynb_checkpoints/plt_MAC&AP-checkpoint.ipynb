{
 "cells": [
  {
   "cell_type": "code",
   "execution_count": 2,
   "metadata": {
    "collapsed": true
   },
   "outputs": [],
   "source": [
    "%matplotlib inline\n",
    "import random\n",
    "import numpy as np\n",
    "import pandas as pd\n",
    "import matplotlib.pyplot as plt"
   ]
  },
  {
   "cell_type": "code",
   "execution_count": 7,
   "metadata": {
    "collapsed": false,
    "scrolled": true
   },
   "outputs": [
    {
     "ename": "TypeError",
     "evalue": "parser_f() got an unexpected keyword argument 'indexs'",
     "output_type": "error",
     "traceback": [
      "\u001b[0;31m---------------------------------------------------------------------------\u001b[0m",
      "\u001b[0;31mTypeError\u001b[0m                                 Traceback (most recent call last)",
      "\u001b[0;32m<ipython-input-7-4adf198bfd06>\u001b[0m in \u001b[0;36m<module>\u001b[0;34m()\u001b[0m\n\u001b[0;32m----> 1\u001b[0;31m \u001b[0mdata\u001b[0m \u001b[1;33m=\u001b[0m \u001b[0mpd\u001b[0m\u001b[1;33m.\u001b[0m\u001b[0mread_csv\u001b[0m\u001b[1;33m(\u001b[0m\u001b[1;34m'data.csv'\u001b[0m\u001b[1;33m,\u001b[0m\u001b[0mindexs\u001b[0m\u001b[1;33m=\u001b[0m\u001b[1;34m'Target_ID'\u001b[0m\u001b[1;33m)\u001b[0m\u001b[1;33m\u001b[0m\u001b[0m\n\u001b[0m\u001b[1;32m      2\u001b[0m \u001b[0mdata\u001b[0m\u001b[1;33m\u001b[0m\u001b[0m\n",
      "\u001b[0;31mTypeError\u001b[0m: parser_f() got an unexpected keyword argument 'indexs'"
     ]
    }
   ],
   "source": [
    "data = pd.read_csv('data.csv','Target_ID')\n",
    "data"
   ]
  },
  {
   "cell_type": "code",
   "execution_count": 8,
   "metadata": {
    "collapsed": true
   },
   "outputs": [],
   "source": [
    "data = pd.read_json('http://127.0.0.1:5000/v1.0/data/input/target_rec/20161207/20161208')"
   ]
  },
  {
   "cell_type": "code",
   "execution_count": 34,
   "metadata": {
    "collapsed": false
   },
   "outputs": [
    {
     "data": {
      "text/plain": [
       "Target_ID\n",
       "00-9A-CD-D2-08-D4     36.0\n",
       "04-56-04-49-82-0D    135.0\n",
       "14-32-D1-C5-0B-B6     17.0\n",
       "1C-77-F6-39-37-39     81.0\n",
       "34-80-B3-88-58-09     18.0\n",
       "38-BC-1A-86-FA-12     45.0\n",
       "7C-1D-D9-F6-D9-E0     44.0\n",
       "A0-86-C6-9D-49-7B     44.0\n",
       "C0-1A-DA-05-31-9D     62.0\n",
       "C4-07-2F-C1-B1-81    212.0\n",
       "C8-25-E1-8B-1F-03     32.0\n",
       "C8-25-E1-F7-4A-A4    123.0\n",
       "DC-6D-CD-03-77-84     14.0\n",
       "EC-DF-3A-75-61-FC    122.0\n",
       "F0-24-75-E8-4F-CA     23.0\n",
       "F0-25-B7-7D-E4-EE     14.0\n",
       "F4-29-81-BF-CE-09    123.0\n",
       "FC-19-10-3A-9E-2E    187.0\n",
       "Name: 101, dtype: float64"
      ]
     },
     "execution_count": 34,
     "metadata": {},
     "output_type": "execute_result"
    }
   ],
   "source": [
    "# data1 = data[data['Target_Signal'] >0]\n",
    "\n",
    "# data_ap = data1.groupby([data1['Target_ID'], data1['Pin_ID']]).size().unstack().fillna(value=0)\n",
    "# data_d = data_ap[data_ap['101'] >10]\n",
    "# data_app = data_d['101']\n",
    "# data_app\n",
    "data\n",
    "data_ap = data.groupby([data['Target_ID'], data['Pin_ID']]).size().unstack().fillna(value=0)\n",
    "data_d= data_ap[data_ap[101]>10]\n",
    "data_app = data_d[101]\n",
    "data_app"
   ]
  },
  {
   "cell_type": "code",
   "execution_count": 36,
   "metadata": {
    "collapsed": false
   },
   "outputs": [
    {
     "data": {
      "text/plain": [
       "[{'00-9A-CD-D2-08-D4': 36.0,\n",
       "  '04-56-04-49-82-0D': 135.0,\n",
       "  '14-32-D1-C5-0B-B6': 17.0,\n",
       "  '1C-77-F6-39-37-39': 81.0,\n",
       "  '34-80-B3-88-58-09': 18.0,\n",
       "  '38-BC-1A-86-FA-12': 45.0,\n",
       "  '7C-1D-D9-F6-D9-E0': 44.0,\n",
       "  'A0-86-C6-9D-49-7B': 44.0,\n",
       "  'C0-1A-DA-05-31-9D': 62.0,\n",
       "  'C4-07-2F-C1-B1-81': 212.0,\n",
       "  'C8-25-E1-8B-1F-03': 32.0,\n",
       "  'C8-25-E1-F7-4A-A4': 123.0,\n",
       "  'DC-6D-CD-03-77-84': 14.0,\n",
       "  'EC-DF-3A-75-61-FC': 122.0,\n",
       "  'F0-24-75-E8-4F-CA': 23.0,\n",
       "  'F0-25-B7-7D-E4-EE': 14.0,\n",
       "  'F4-29-81-BF-CE-09': 123.0,\n",
       "  'FC-19-10-3A-9E-2E': 187.0}]"
      ]
     },
     "execution_count": 36,
     "metadata": {},
     "output_type": "execute_result"
    }
   ],
   "source": [
    "l=[]\n",
    "q=[]\n",
    "for i in data_app.index:\n",
    "    l.append(i)\n",
    "            \n",
    "for i in data_app:\n",
    "    q.append(i)\n",
    "k={}\n",
    "ll=[]\n",
    "for i in range(0,len(q)):\n",
    "    k[l[i]]=q[i]\n",
    "ll.append(k)\n",
    "ll"
   ]
  },
  {
   "cell_type": "code",
   "execution_count": 4,
   "metadata": {
    "collapsed": false
   },
   "outputs": [
    {
     "data": {
      "text/plain": [
       "0       149.0\n",
       "26       19.0\n",
       "27       19.0\n",
       "28       25.0\n",
       "31      336.0\n",
       "33       16.0\n",
       "43       26.0\n",
       "44       17.0\n",
       "45       30.0\n",
       "64      187.0\n",
       "65       33.0\n",
       "78       40.0\n",
       "82       64.0\n",
       "93       57.0\n",
       "95       15.0\n",
       "96       21.0\n",
       "97       67.0\n",
       "99       68.0\n",
       "111      31.0\n",
       "114     317.0\n",
       "119     100.0\n",
       "121     114.0\n",
       "129      28.0\n",
       "130      72.0\n",
       "134      47.0\n",
       "142      65.0\n",
       "143    1825.0\n",
       "154      47.0\n",
       "160      46.0\n",
       "166      27.0\n",
       "        ...  \n",
       "637      60.0\n",
       "640      24.0\n",
       "644      38.0\n",
       "646     257.0\n",
       "656     385.0\n",
       "667      79.0\n",
       "669      32.0\n",
       "670      97.0\n",
       "671      51.0\n",
       "673      38.0\n",
       "677      25.0\n",
       "687     719.0\n",
       "688      30.0\n",
       "690      89.0\n",
       "696      14.0\n",
       "698      36.0\n",
       "700      15.0\n",
       "702      84.0\n",
       "703      49.0\n",
       "705     418.0\n",
       "706      28.0\n",
       "709      72.0\n",
       "715      19.0\n",
       "717     183.0\n",
       "718      25.0\n",
       "725      47.0\n",
       "733    1549.0\n",
       "734      25.0\n",
       "736     423.0\n",
       "743      71.0\n",
       "Name: 100, dtype: float64"
      ]
     },
     "execution_count": 4,
     "metadata": {},
     "output_type": "execute_result"
    }
   ],
   "source": [
    "data1=data[['Target_ID','100']]\n",
    "data2 = data1[data1['100']>10]\n",
    "data2['100']"
   ]
  },
  {
   "cell_type": "code",
   "execution_count": 67,
   "metadata": {
    "collapsed": true
   },
   "outputs": [
    {
     "data": {
      "text/plain": [
       "0      00-16-6D-F4-29-FE\n",
       "31     0C-51-01-60-DB-F8\n",
       "64     14-F6-5A-AD-02-2D\n",
       "114    24-1F-A0-FD-5E-BE\n",
       "121    24-E3-14-D8-81-20\n",
       "173    38-BC-1A-19-99-78\n",
       "218    40-C6-2A-15-37-27\n",
       "314    64-CC-2E-41-2F-94\n",
       "357    6C-25-B9-16-EB-1C\n",
       "400    84-11-9E-7D-DF-EC\n",
       "437    94-E9-6A-F0-8B-43\n",
       "528    B0-E2-35-05-77-0D\n",
       "561    BC-3A-EA-5A-D0-34\n",
       "577    C0-9F-05-5A-DF-7C\n",
       "646    DC-3E-F8-56-D3-64\n",
       "656    DC-6D-CD-F9-03-F4\n",
       "705    F0-24-75-E8-4F-CA\n",
       "717    F4-29-81-BF-CE-09\n",
       "736    F8-23-B2-45-BC-20\n",
       "Name: Target_ID, dtype: object"
      ]
     },
     "execution_count": 67,
     "metadata": {},
     "output_type": "execute_result"
    }
   ],
   "source": [
    "N = data3['Target_ID']\n",
    "N"
   ]
  },
  {
   "cell_type": "code",
   "execution_count": 107,
   "metadata": {
    "collapsed": false
   },
   "outputs": [
    {
     "data": {
      "text/plain": [
       "24"
      ]
     },
     "execution_count": 107,
     "metadata": {},
     "output_type": "execute_result"
    }
   ],
   "source": [
    "y = data2['100']\n",
    "y.count()\n",
    "# y"
   ]
  },
  {
   "cell_type": "code",
   "execution_count": 48,
   "metadata": {
    "collapsed": false
   },
   "outputs": [
    {
     "data": {
      "text/plain": [
       "<Container object of 5 artists>"
      ]
     },
     "execution_count": 48,
     "metadata": {},
     "output_type": "execute_result"
    },
    {
     "data": {
      "image/png": "[encoded data removed]",
      "text/plain": [
       "<matplotlib.figure.Figure at 0xe9297f0>"
      ]
     },
     "metadata": {},
     "output_type": "display_data"
    }
   ],
   "source": [
    "N = np.random.randint(1, 5, 5)\n",
    "y = 5,8,4,9,6\n",
    "plt.bar(N,y)"
   ]
  },
  {
   "cell_type": "code",
   "execution_count": 108,
   "metadata": {
    "collapsed": false
   },
   "outputs": [
    {
     "data": {
      "text/plain": [
       "<Container object of 24 artists>"
      ]
     },
     "execution_count": 108,
     "metadata": {},
     "output_type": "execute_result"
    },
    {
     "data": {
      "image/png": "[encoded data removed]",
      "text/plain": [
       "<matplotlib.figure.Figure at 0x1204c7d0>"
      ]
     },
     "metadata": {},
     "output_type": "display_data"
    }
   ],
   "source": [
    "N = 1,2,3,4,5,6,7,8,9,10,11,12,13,14,15,16,17,18,19,20,21,22,23,24\n",
    "# N1 = np.random.randint(1,31,30)\n",
    "# N2 = np.random.randint(1,20,13)\n",
    "# bat_width = 0.2\n",
    "y = data2['100']\n",
    "# y1 = data31['101']\n",
    "# y2 = data311['102']\n",
    "plt.bar(N,y,color='red')\n",
    "# plt.bar(N1,y1,color='b')\n",
    "# plt.bar(N2,y2,color='g')"
   ]
  },
  {
   "cell_type": "code",
   "execution_count": null,
   "metadata": {
    "collapsed": true
   },
   "outputs": [],
   "source": []
  }
 ],
 "metadata": {
  "kernelspec": {
   "display_name": "Python 3",
   "language": "python",
   "name": "python3"
  },
  "language_info": {
   "codemirror_mode": {
    "name": "ipython",
    "version": 3
   },
   "file_extension": ".py",
   "mimetype": "text/x-python",
   "name": "python",
   "nbconvert_exporter": "python",
   "pygments_lexer": "ipython3",
   "version": "3.5.1"
  }
 },
 "nbformat": 4,
 "nbformat_minor": 1
}
