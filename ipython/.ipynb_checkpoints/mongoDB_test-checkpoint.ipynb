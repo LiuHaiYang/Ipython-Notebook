{
 "cells": [
  {
   "cell_type": "code",
   "execution_count": 1,
   "metadata": {
    "collapsed": true
   },
   "outputs": [],
   "source": [
    "%matplotlib inline\n",
    "import random\n",
    "import numpy as np\n",
    "import pandas as pd\n",
    "import matplotlib.pyplot as plt\n",
    "import pymongo"
   ]
  },
  {
   "cell_type": "code",
   "execution_count": 2,
   "metadata": {
    "collapsed": true
   },
   "outputs": [],
   "source": [
    "client = pymongo.MongoClient('172.16.100.54',27017)\n",
    "target= client['song']"
   ]
  },
  {
   "cell_type": "code",
   "execution_count": 3,
   "metadata": {
    "collapsed": true
   },
   "outputs": [],
   "source": [
    "target_rec = target['target_rec']"
   ]
  },
  {
   "cell_type": "code",
   "execution_count": null,
   "metadata": {
    "collapsed": false,
    "scrolled": false
   },
   "outputs": [],
   "source": [
    "cursor = target_rec.find()\n",
    "index=['Target_ID','Pin_ID','Target_Access_DT']\n",
    "result = pd.DataFrame(list(cursor),columns=index)\n",
    "result.head()"
   ]
  },
  {
   "cell_type": "code",
   "execution_count": 16,
   "metadata": {
    "collapsed": false
   },
   "outputs": [
    {
     "data": {
      "text/plain": [
       "Target_ID          Pin_ID\n",
       "00-16-6D-F4-29-FE  100        149\n",
       "00-19-E0-87-5A-87  112         73\n",
       "00-1E-64-D5-CF-82  103        417\n",
       "                   112       1365\n",
       "00-22-FB-C0-D3-7A  110         52\n",
       "00-26-82-47-BD-9A  107        164\n",
       "00-26-C7-8A-82-F2  109        234\n",
       "00-6D-52-64-7D-6E  100         37\n",
       "                   102          1\n",
       "00-71-CC-22-6C-4D  115         17\n",
       "                   119        150\n",
       "00-71-CC-96-B8-6F  107       3194\n",
       "00-71-CC-97-58-83  112        277\n",
       "00-71-CC-9A-74-3D  112       1364\n",
       "00-71-CC-A3-FC-BD  112       1060\n",
       "00-9A-CD-78-02-1B  101          3\n",
       "                   104         83\n",
       "                   115        556\n",
       "00-9A-CD-D2-08-D4  101         36\n",
       "00-BB-3A-C5-E5-63  103       1146\n",
       "                   106       2922\n",
       "                   112       4427\n",
       "00-CD-FE-3F-53-C0  101         76\n",
       "                   115        546\n",
       "00-DB-DF-76-8D-15  108        227\n",
       "00-EE-BD-44-BA-A6  101          6\n",
       "                   108         82\n",
       "                   117         19\n",
       "                   118         58\n",
       "00-EE-BD-87-D9-B8  101          7\n",
       "                             ... \n",
       "FC-3D-93-0D-83-47  106          2\n",
       "FC-3F-7C-86-1C-B6  106          8\n",
       "FC-64-BA-0A-35-51  104          6\n",
       "                   106          1\n",
       "                   115          3\n",
       "FC-64-BA-36-7C-E8  101         10\n",
       "                   106         17\n",
       "                   108         11\n",
       "FC-64-BA-52-A8-0E  103        189\n",
       "                   106         11\n",
       "                   112          3\n",
       "FC-64-BA-6D-BC-57  100          8\n",
       "                   101         32\n",
       "                   102          1\n",
       "                   112         17\n",
       "                   117          6\n",
       "FC-64-BA-8C-F2-1B  104        696\n",
       "                   108         56\n",
       "                   112          1\n",
       "FC-64-BA-AE-A3-32  105        115\n",
       "                   106         15\n",
       "                   109        125\n",
       "                   111         31\n",
       "                   117          2\n",
       "                   119         23\n",
       "FC-DB-B3-2D-16-B6  106         15\n",
       "FC-DB-B3-72-70-53  101          8\n",
       "                   106         62\n",
       "FC-DB-B3-CE-29-34  101         14\n",
       "FC-E9-98-2D-AD-5A  102          5\n",
       "dtype: int64"
      ]
     },
     "execution_count": 16,
     "metadata": {},
     "output_type": "execute_result"
    }
   ],
   "source": [
    "data = result.groupby([result['Target_ID'],result['Pin_ID']]).size().T\n",
    "data"
   ]
  },
  {
   "cell_type": "code",
   "execution_count": null,
   "metadata": {
    "collapsed": true
   },
   "outputs": [],
   "source": []
  }
 ],
 "metadata": {
  "kernelspec": {
   "display_name": "Python 3",
   "language": "python",
   "name": "python3"
  },
  "language_info": {
   "codemirror_mode": {
    "name": "ipython",
    "version": 3
   },
   "file_extension": ".py",
   "mimetype": "text/x-python",
   "name": "python",
   "nbconvert_exporter": "python",
   "pygments_lexer": "ipython3",
   "version": "3.5.1"
  }
 },
 "nbformat": 4,
 "nbformat_minor": 1
}
