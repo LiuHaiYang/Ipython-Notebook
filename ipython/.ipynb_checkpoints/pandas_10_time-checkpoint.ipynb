{
 "cells": [
  {
   "cell_type": "code",
   "execution_count": 1,
   "metadata": {
    "collapsed": true
   },
   "outputs": [],
   "source": [
    "import pandas as pd"
   ]
  },
  {
   "cell_type": "code",
   "execution_count": 2,
   "metadata": {
    "collapsed": true
   },
   "outputs": [],
   "source": [
    "import numpy as np"
   ]
  },
  {
   "cell_type": "code",
   "execution_count": 3,
   "metadata": {
    "collapsed": true
   },
   "outputs": [],
   "source": [
    "from datetime import datetime"
   ]
  },
  {
   "cell_type": "code",
   "execution_count": 4,
   "metadata": {
    "collapsed": true
   },
   "outputs": [],
   "source": [
    "from datetime import timedelta"
   ]
  },
  {
   "cell_type": "code",
   "execution_count": 5,
   "metadata": {
    "collapsed": true
   },
   "outputs": [],
   "source": [
    "now = datetime.now()"
   ]
  },
  {
   "cell_type": "code",
   "execution_count": 6,
   "metadata": {
    "collapsed": false
   },
   "outputs": [
    {
     "data": {
      "text/plain": [
       "datetime.datetime(2016, 11, 2, 14, 56, 56, 341286)"
      ]
     },
     "execution_count": 6,
     "metadata": {},
     "output_type": "execute_result"
    }
   ],
   "source": [
    "now"
   ]
  },
  {
   "cell_type": "code",
   "execution_count": 7,
   "metadata": {
    "collapsed": false
   },
   "outputs": [
    {
     "data": {
      "text/plain": [
       "(2016, 11, 2)"
      ]
     },
     "execution_count": 7,
     "metadata": {},
     "output_type": "execute_result"
    }
   ],
   "source": [
    "now.year,now.month,now.day"
   ]
  },
  {
   "cell_type": "code",
   "execution_count": 9,
   "metadata": {
    "collapsed": false
   },
   "outputs": [],
   "source": [
    "date1=datetime(2016,11,1)\n",
    "date2= datetime(2016,11,5)\n",
    "delta = date2 - date1"
   ]
  },
  {
   "cell_type": "code",
   "execution_count": 10,
   "metadata": {
    "collapsed": false
   },
   "outputs": [
    {
     "data": {
      "text/plain": [
       "datetime.timedelta(4)"
      ]
     },
     "execution_count": 10,
     "metadata": {},
     "output_type": "execute_result"
    }
   ],
   "source": [
    "delta"
   ]
  },
  {
   "cell_type": "code",
   "execution_count": 11,
   "metadata": {
    "collapsed": false
   },
   "outputs": [
    {
     "data": {
      "text/plain": [
       "4"
      ]
     },
     "execution_count": 11,
     "metadata": {},
     "output_type": "execute_result"
    }
   ],
   "source": [
    "delta.days"
   ]
  },
  {
   "cell_type": "code",
   "execution_count": 13,
   "metadata": {
    "collapsed": false
   },
   "outputs": [
    {
     "data": {
      "text/plain": [
       "345600.0"
      ]
     },
     "execution_count": 13,
     "metadata": {},
     "output_type": "execute_result"
    }
   ],
   "source": [
    "delta.total_seconds()"
   ]
  },
  {
   "cell_type": "code",
   "execution_count": 17,
   "metadata": {
    "collapsed": false
   },
   "outputs": [],
   "source": [
    "date = datetime(2016,10,20, 8,30)"
   ]
  },
  {
   "cell_type": "code",
   "execution_count": 19,
   "metadata": {
    "collapsed": false
   },
   "outputs": [
    {
     "data": {
      "text/plain": [
       "'16/10/20 08:30:00'"
      ]
     },
     "execution_count": 19,
     "metadata": {},
     "output_type": "execute_result"
    }
   ],
   "source": [
    "date.strftime('%y/%m/%d %H:%M:%S')"
   ]
  },
  {
   "cell_type": "code",
   "execution_count": 21,
   "metadata": {
    "collapsed": false
   },
   "outputs": [
    {
     "data": {
      "text/plain": [
       "DatetimeIndex(['2016-10-01', '2016-10-02', '2016-10-03', '2016-10-04',\n",
       "               '2016-10-05', '2016-10-06', '2016-10-07', '2016-10-08',\n",
       "               '2016-10-09', '2016-10-10'],\n",
       "              dtype='datetime64[ns]', freq='D')"
      ]
     },
     "execution_count": 21,
     "metadata": {},
     "output_type": "execute_result"
    }
   ],
   "source": [
    "pd.date_range('20161001','20161010')"
   ]
  },
  {
   "cell_type": "code",
   "execution_count": 22,
   "metadata": {
    "collapsed": false
   },
   "outputs": [
    {
     "data": {
      "text/plain": [
       "DatetimeIndex(['2016-10-01', '2016-10-02', '2016-10-03', '2016-10-04',\n",
       "               '2016-10-05', '2016-10-06', '2016-10-07', '2016-10-08',\n",
       "               '2016-10-09', '2016-10-10'],\n",
       "              dtype='datetime64[ns]', freq='D')"
      ]
     },
     "execution_count": 22,
     "metadata": {},
     "output_type": "execute_result"
    }
   ],
   "source": [
    "pd.date_range('20161001 ',periods=10)"
   ]
  },
  {
   "cell_type": "code",
   "execution_count": 26,
   "metadata": {
    "collapsed": false
   },
   "outputs": [
    {
     "data": {
      "text/plain": [
       "DatetimeIndex(['2016-10-01 16:20:12', '2016-10-01 16:20:13',\n",
       "               '2016-10-01 16:20:14', '2016-10-01 16:20:15',\n",
       "               '2016-10-01 16:20:16', '2016-10-01 16:20:17',\n",
       "               '2016-10-01 16:20:18', '2016-10-01 16:20:19',\n",
       "               '2016-10-01 16:20:20', '2016-10-01 16:20:21'],\n",
       "              dtype='datetime64[ns]', freq='S')"
      ]
     },
     "execution_count": 26,
     "metadata": {},
     "output_type": "execute_result"
    }
   ],
   "source": [
    "pd.date_range('20161001 16:20:12',periods=10,freq='S')"
   ]
  },
  {
   "cell_type": "code",
   "execution_count": 27,
   "metadata": {
    "collapsed": false
   },
   "outputs": [
    {
     "data": {
      "text/plain": [
       "DatetimeIndex(['2016-10-01', '2016-10-02', '2016-10-03', '2016-10-04',\n",
       "               '2016-10-05', '2016-10-06', '2016-10-07', '2016-10-08',\n",
       "               '2016-10-09', '2016-10-10'],\n",
       "              dtype='datetime64[ns]', freq='D')"
      ]
     },
     "execution_count": 27,
     "metadata": {},
     "output_type": "execute_result"
    }
   ],
   "source": [
    "pd.date_range('20161001 16:20:12',periods=10,normalize=True)"
   ]
  },
  {
   "cell_type": "code",
   "execution_count": 28,
   "metadata": {
    "collapsed": false
   },
   "outputs": [
    {
     "data": {
      "text/plain": [
       "DatetimeIndex(['2016-10-31', '2016-11-30', '2016-12-31', '2017-01-31',\n",
       "               '2017-02-28', '2017-03-31', '2017-04-30', '2017-05-31',\n",
       "               '2017-06-30', '2017-07-31'],\n",
       "              dtype='datetime64[ns]', freq='M')"
      ]
     },
     "execution_count": 28,
     "metadata": {},
     "output_type": "execute_result"
    }
   ],
   "source": [
    "pd.date_range('20161001 16:20:12',periods=10,normalize=True,freq='M')"
   ]
  },
  {
   "cell_type": "code",
   "execution_count": 29,
   "metadata": {
    "collapsed": false
   },
   "outputs": [
    {
     "data": {
      "text/plain": [
       "DatetimeIndex(['2016-10-02', '2016-10-09', '2016-10-16', '2016-10-23',\n",
       "               '2016-10-30', '2016-11-06', '2016-11-13', '2016-11-20',\n",
       "               '2016-11-27', '2016-12-04'],\n",
       "              dtype='datetime64[ns]', freq='W-SUN')"
      ]
     },
     "execution_count": 29,
     "metadata": {},
     "output_type": "execute_result"
    }
   ],
   "source": [
    "pd.date_range('20161001 16:20:12',periods=10,normalize=True,freq='W')"
   ]
  },
  {
   "cell_type": "code",
   "execution_count": 30,
   "metadata": {
    "collapsed": false
   },
   "outputs": [
    {
     "data": {
      "text/plain": [
       "DatetimeIndex(['2016-10-31', '2016-11-30', '2016-12-30', '2017-01-31',\n",
       "               '2017-02-28', '2017-03-31', '2017-04-28', '2017-05-31',\n",
       "               '2017-06-30', '2017-07-31'],\n",
       "              dtype='datetime64[ns]', freq='BM')"
      ]
     },
     "execution_count": 30,
     "metadata": {},
     "output_type": "execute_result"
    }
   ],
   "source": [
    "pd.date_range('20161001 16:20:12',periods=10,normalize=True,freq='BM')"
   ]
  },
  {
   "cell_type": "code",
   "execution_count": 31,
   "metadata": {
    "collapsed": false
   },
   "outputs": [
    {
     "data": {
      "text/plain": [
       "DatetimeIndex(['2016-10-01 00:00:00', '2016-10-01 04:00:00',\n",
       "               '2016-10-01 08:00:00', '2016-10-01 12:00:00',\n",
       "               '2016-10-01 16:00:00', '2016-10-01 20:00:00',\n",
       "               '2016-10-02 00:00:00', '2016-10-02 04:00:00',\n",
       "               '2016-10-02 08:00:00', '2016-10-02 12:00:00'],\n",
       "              dtype='datetime64[ns]', freq='4H')"
      ]
     },
     "execution_count": 31,
     "metadata": {},
     "output_type": "execute_result"
    }
   ],
   "source": [
    "pd.date_range('20161001 16:20:12',periods=10,normalize=True,freq='4H')"
   ]
  },
  {
   "cell_type": "code",
   "execution_count": 32,
   "metadata": {
    "collapsed": true
   },
   "outputs": [],
   "source": [
    "p = pd.Period(2010,freq='M')"
   ]
  },
  {
   "cell_type": "code",
   "execution_count": 33,
   "metadata": {
    "collapsed": false
   },
   "outputs": [
    {
     "data": {
      "text/plain": [
       "Period('2010-01', 'M')"
      ]
     },
     "execution_count": 33,
     "metadata": {},
     "output_type": "execute_result"
    }
   ],
   "source": [
    "p\n"
   ]
  },
  {
   "cell_type": "code",
   "execution_count": 34,
   "metadata": {
    "collapsed": false
   },
   "outputs": [
    {
     "data": {
      "text/plain": [
       "Period('2010-03', 'M')"
      ]
     },
     "execution_count": 34,
     "metadata": {},
     "output_type": "execute_result"
    }
   ],
   "source": [
    "p+2"
   ]
  },
  {
   "cell_type": "code",
   "execution_count": 35,
   "metadata": {
    "collapsed": true
   },
   "outputs": [],
   "source": [
    "p = pd.Period(2010)"
   ]
  },
  {
   "cell_type": "code",
   "execution_count": 36,
   "metadata": {
    "collapsed": false
   },
   "outputs": [
    {
     "data": {
      "text/plain": [
       "Period('2010', 'A-DEC')"
      ]
     },
     "execution_count": 36,
     "metadata": {},
     "output_type": "execute_result"
    }
   ],
   "source": [
    "p"
   ]
  },
  {
   "cell_type": "code",
   "execution_count": 37,
   "metadata": {
    "collapsed": false
   },
   "outputs": [
    {
     "data": {
      "text/plain": [
       "Period('2012', 'A-DEC')"
      ]
     },
     "execution_count": 37,
     "metadata": {},
     "output_type": "execute_result"
    }
   ],
   "source": [
    "p+2"
   ]
  },
  {
   "cell_type": "code",
   "execution_count": 38,
   "metadata": {
    "collapsed": true
   },
   "outputs": [],
   "source": [
    "a = pd.Period(2016)"
   ]
  },
  {
   "cell_type": "code",
   "execution_count": 39,
   "metadata": {
    "collapsed": false
   },
   "outputs": [
    {
     "data": {
      "text/plain": [
       "Period('2016', 'A-DEC')"
      ]
     },
     "execution_count": 39,
     "metadata": {},
     "output_type": "execute_result"
    }
   ],
   "source": [
    "a"
   ]
  },
  {
   "cell_type": "code",
   "execution_count": 40,
   "metadata": {
    "collapsed": false
   },
   "outputs": [
    {
     "data": {
      "text/plain": [
       "Period('2016-12', 'M')"
      ]
     },
     "execution_count": 40,
     "metadata": {},
     "output_type": "execute_result"
    }
   ],
   "source": [
    "a.asfreq('M')"
   ]
  },
  {
   "cell_type": "code",
   "execution_count": 41,
   "metadata": {
    "collapsed": false
   },
   "outputs": [
    {
     "data": {
      "text/plain": [
       "Period('2016-01', 'M')"
      ]
     },
     "execution_count": 41,
     "metadata": {},
     "output_type": "execute_result"
    }
   ],
   "source": [
    "a.asfreq('M',how='start')"
   ]
  },
  {
   "cell_type": "code",
   "execution_count": 42,
   "metadata": {
    "collapsed": true
   },
   "outputs": [],
   "source": [
    "p=pd.Period('2016-04',freq='M')"
   ]
  },
  {
   "cell_type": "code",
   "execution_count": 43,
   "metadata": {
    "collapsed": false
   },
   "outputs": [
    {
     "data": {
      "text/plain": [
       "Period('2016-04', 'M')"
      ]
     },
     "execution_count": 43,
     "metadata": {},
     "output_type": "execute_result"
    }
   ],
   "source": [
    "p"
   ]
  },
  {
   "cell_type": "code",
   "execution_count": 44,
   "metadata": {
    "collapsed": false
   },
   "outputs": [
    {
     "data": {
      "text/plain": [
       "Period('2016Q4', 'Q-JAN')"
      ]
     },
     "execution_count": 44,
     "metadata": {},
     "output_type": "execute_result"
    }
   ],
   "source": [
    " o = pd.Period('2016Q4','Q-JAN')\n",
    "o"
   ]
  },
  {
   "cell_type": "code",
   "execution_count": 45,
   "metadata": {
    "collapsed": false
   },
   "outputs": [
    {
     "data": {
      "text/plain": [
       "(Period('2015-11', 'M'), Period('2016-04', 'M'))"
      ]
     },
     "execution_count": 45,
     "metadata": {},
     "output_type": "execute_result"
    }
   ],
   "source": [
    "o.asfreq('M',how='start'),p.asfreq('M',how='end')"
   ]
  },
  {
   "cell_type": "code",
   "execution_count": 46,
   "metadata": {
    "collapsed": false
   },
   "outputs": [
    {
     "data": {
      "text/plain": [
       "Period('2016-04-29 16:19', 'T')"
      ]
     },
     "execution_count": 46,
     "metadata": {},
     "output_type": "execute_result"
    }
   ],
   "source": [
    "#获取该季度倒数第二个工作日下午4点20分\n",
    "(p.asfreq('B') -1).asfreq('T')+16 *60 +20"
   ]
  },
  {
   "cell_type": "code",
   "execution_count": 47,
   "metadata": {
    "collapsed": true
   },
   "outputs": [],
   "source": [
    " s = pd.Series(np.random.rand(5),index=pd.date_range('2016-04-01',periods=5,freq='M'))"
   ]
  },
  {
   "cell_type": "code",
   "execution_count": 48,
   "metadata": {
    "collapsed": false
   },
   "outputs": [
    {
     "data": {
      "text/plain": [
       "2016-04-30    0.736137\n",
       "2016-05-31    0.828922\n",
       "2016-06-30    0.019411\n",
       "2016-07-31    0.761002\n",
       "2016-08-31    0.352734\n",
       "Freq: M, dtype: float64"
      ]
     },
     "execution_count": 48,
     "metadata": {},
     "output_type": "execute_result"
    }
   ],
   "source": [
    "s"
   ]
  },
  {
   "cell_type": "code",
   "execution_count": 49,
   "metadata": {
    "collapsed": false
   },
   "outputs": [
    {
     "data": {
      "text/plain": [
       "2016-04    0.736137\n",
       "2016-05    0.828922\n",
       "2016-06    0.019411\n",
       "2016-07    0.761002\n",
       "2016-08    0.352734\n",
       "Freq: M, dtype: float64"
      ]
     },
     "execution_count": 49,
     "metadata": {},
     "output_type": "execute_result"
    }
   ],
   "source": [
    "s.to_period()"
   ]
  },
  {
   "cell_type": "code",
   "execution_count": 51,
   "metadata": {
    "collapsed": false
   },
   "outputs": [],
   "source": [
    "ts = pd.Series(np.random.randint(0,50,60), index=pd.date_range('2016-04-25 09:30',periods=60,freq='T'))"
   ]
  },
  {
   "cell_type": "code",
   "execution_count": 52,
   "metadata": {
    "collapsed": false
   },
   "outputs": [
    {
     "data": {
      "text/plain": [
       "2016-04-25 09:30:00    39\n",
       "2016-04-25 09:31:00    34\n",
       "2016-04-25 09:32:00    43\n",
       "2016-04-25 09:33:00    13\n",
       "2016-04-25 09:34:00    18\n",
       "2016-04-25 09:35:00    19\n",
       "2016-04-25 09:36:00    44\n",
       "2016-04-25 09:37:00    29\n",
       "2016-04-25 09:38:00    20\n",
       "2016-04-25 09:39:00     4\n",
       "2016-04-25 09:40:00    46\n",
       "2016-04-25 09:41:00    15\n",
       "2016-04-25 09:42:00    25\n",
       "2016-04-25 09:43:00    19\n",
       "2016-04-25 09:44:00    12\n",
       "2016-04-25 09:45:00     4\n",
       "2016-04-25 09:46:00    20\n",
       "2016-04-25 09:47:00     1\n",
       "2016-04-25 09:48:00    21\n",
       "2016-04-25 09:49:00    30\n",
       "2016-04-25 09:50:00     8\n",
       "2016-04-25 09:51:00    47\n",
       "2016-04-25 09:52:00    23\n",
       "2016-04-25 09:53:00    34\n",
       "2016-04-25 09:54:00    13\n",
       "2016-04-25 09:55:00    21\n",
       "2016-04-25 09:56:00    25\n",
       "2016-04-25 09:57:00    35\n",
       "2016-04-25 09:58:00    49\n",
       "2016-04-25 09:59:00    21\n",
       "2016-04-25 10:00:00     9\n",
       "2016-04-25 10:01:00     1\n",
       "2016-04-25 10:02:00    23\n",
       "2016-04-25 10:03:00    17\n",
       "2016-04-25 10:04:00    26\n",
       "2016-04-25 10:05:00    28\n",
       "2016-04-25 10:06:00     4\n",
       "2016-04-25 10:07:00    49\n",
       "2016-04-25 10:08:00    26\n",
       "2016-04-25 10:09:00    22\n",
       "2016-04-25 10:10:00    11\n",
       "2016-04-25 10:11:00     5\n",
       "2016-04-25 10:12:00    47\n",
       "2016-04-25 10:13:00    14\n",
       "2016-04-25 10:14:00     4\n",
       "2016-04-25 10:15:00    41\n",
       "2016-04-25 10:16:00    46\n",
       "2016-04-25 10:17:00    39\n",
       "2016-04-25 10:18:00    39\n",
       "2016-04-25 10:19:00    40\n",
       "2016-04-25 10:20:00    41\n",
       "2016-04-25 10:21:00     9\n",
       "2016-04-25 10:22:00    37\n",
       "2016-04-25 10:23:00     1\n",
       "2016-04-25 10:24:00    10\n",
       "2016-04-25 10:25:00    24\n",
       "2016-04-25 10:26:00     7\n",
       "2016-04-25 10:27:00    41\n",
       "2016-04-25 10:28:00    40\n",
       "2016-04-25 10:29:00     9\n",
       "Freq: T, dtype: int32"
      ]
     },
     "execution_count": 52,
     "metadata": {},
     "output_type": "execute_result"
    }
   ],
   "source": [
    "ts"
   ]
  },
  {
   "cell_type": "code",
   "execution_count": 53,
   "metadata": {
    "collapsed": false
   },
   "outputs": [
    {
     "name": "stderr",
     "output_type": "stream",
     "text": [
      "f:\\python\\python3.5\\lib\\site-packages\\ipykernel\\__main__.py:1: FutureWarning: how in .resample() is deprecated\n",
      "the new syntax is .resample(...).sum()\n",
      "  if __name__ == '__main__':\n"
     ]
    },
    {
     "data": {
      "text/plain": [
       "2016-04-25 09:30:00    147\n",
       "2016-04-25 09:35:00    116\n",
       "2016-04-25 09:40:00    117\n",
       "2016-04-25 09:45:00     76\n",
       "2016-04-25 09:50:00    125\n",
       "2016-04-25 09:55:00    151\n",
       "2016-04-25 10:00:00     76\n",
       "2016-04-25 10:05:00    129\n",
       "2016-04-25 10:10:00     81\n",
       "2016-04-25 10:15:00    205\n",
       "2016-04-25 10:20:00     98\n",
       "2016-04-25 10:25:00    121\n",
       "Freq: 5T, dtype: int32"
      ]
     },
     "execution_count": 53,
     "metadata": {},
     "output_type": "execute_result"
    }
   ],
   "source": [
    "ts.resample('5min',how='sum')"
   ]
  },
  {
   "cell_type": "code",
   "execution_count": 54,
   "metadata": {
    "collapsed": false
   },
   "outputs": [
    {
     "name": "stderr",
     "output_type": "stream",
     "text": [
      "f:\\python\\python3.5\\lib\\site-packages\\ipykernel\\__main__.py:1: FutureWarning: how in .resample() is deprecated\n",
      "the new syntax is .resample(...).sum()\n",
      "  if __name__ == '__main__':\n"
     ]
    },
    {
     "data": {
      "text/plain": [
       "2016-04-25 09:35:00    147\n",
       "2016-04-25 09:40:00    116\n",
       "2016-04-25 09:45:00    117\n",
       "2016-04-25 09:50:00     76\n",
       "2016-04-25 09:55:00    125\n",
       "2016-04-25 10:00:00    151\n",
       "2016-04-25 10:05:00     76\n",
       "2016-04-25 10:10:00    129\n",
       "2016-04-25 10:15:00     81\n",
       "2016-04-25 10:20:00    205\n",
       "2016-04-25 10:25:00     98\n",
       "2016-04-25 10:30:00    121\n",
       "Freq: 5T, dtype: int32"
      ]
     },
     "execution_count": 54,
     "metadata": {},
     "output_type": "execute_result"
    }
   ],
   "source": [
    "ts.resample('5min',how='sum',label='right')"
   ]
  },
  {
   "cell_type": "code",
   "execution_count": 55,
   "metadata": {
    "collapsed": false
   },
   "outputs": [
    {
     "name": "stderr",
     "output_type": "stream",
     "text": [
      "f:\\python\\python3.5\\lib\\site-packages\\ipykernel\\__main__.py:1: FutureWarning: how in .resample() is deprecated\n",
      "the new syntax is .resample(...).ohlc()\n",
      "  if __name__ == '__main__':\n"
     ]
    },
    {
     "data": {
      "text/html": [
       "<div>\n",
       "<table border=\"1\" class=\"dataframe\">\n",
       "  <thead>\n",
       "    <tr style=\"text-align: right;\">\n",
       "      <th></th>\n",
       "      <th>open</th>\n",
       "      <th>high</th>\n",
       "      <th>low</th>\n",
       "      <th>close</th>\n",
       "    </tr>\n",
       "  </thead>\n",
       "  <tbody>\n",
       "    <tr>\n",
       "      <th>2016-04-25 09:30:00</th>\n",
       "      <td>39</td>\n",
       "      <td>43</td>\n",
       "      <td>13</td>\n",
       "      <td>18</td>\n",
       "    </tr>\n",
       "    <tr>\n",
       "      <th>2016-04-25 09:35:00</th>\n",
       "      <td>19</td>\n",
       "      <td>44</td>\n",
       "      <td>4</td>\n",
       "      <td>4</td>\n",
       "    </tr>\n",
       "    <tr>\n",
       "      <th>2016-04-25 09:40:00</th>\n",
       "      <td>46</td>\n",
       "      <td>46</td>\n",
       "      <td>12</td>\n",
       "      <td>12</td>\n",
       "    </tr>\n",
       "    <tr>\n",
       "      <th>2016-04-25 09:45:00</th>\n",
       "      <td>4</td>\n",
       "      <td>30</td>\n",
       "      <td>1</td>\n",
       "      <td>30</td>\n",
       "    </tr>\n",
       "    <tr>\n",
       "      <th>2016-04-25 09:50:00</th>\n",
       "      <td>8</td>\n",
       "      <td>47</td>\n",
       "      <td>8</td>\n",
       "      <td>13</td>\n",
       "    </tr>\n",
       "    <tr>\n",
       "      <th>2016-04-25 09:55:00</th>\n",
       "      <td>21</td>\n",
       "      <td>49</td>\n",
       "      <td>21</td>\n",
       "      <td>21</td>\n",
       "    </tr>\n",
       "    <tr>\n",
       "      <th>2016-04-25 10:00:00</th>\n",
       "      <td>9</td>\n",
       "      <td>26</td>\n",
       "      <td>1</td>\n",
       "      <td>26</td>\n",
       "    </tr>\n",
       "    <tr>\n",
       "      <th>2016-04-25 10:05:00</th>\n",
       "      <td>28</td>\n",
       "      <td>49</td>\n",
       "      <td>4</td>\n",
       "      <td>22</td>\n",
       "    </tr>\n",
       "    <tr>\n",
       "      <th>2016-04-25 10:10:00</th>\n",
       "      <td>11</td>\n",
       "      <td>47</td>\n",
       "      <td>4</td>\n",
       "      <td>4</td>\n",
       "    </tr>\n",
       "    <tr>\n",
       "      <th>2016-04-25 10:15:00</th>\n",
       "      <td>41</td>\n",
       "      <td>46</td>\n",
       "      <td>39</td>\n",
       "      <td>40</td>\n",
       "    </tr>\n",
       "    <tr>\n",
       "      <th>2016-04-25 10:20:00</th>\n",
       "      <td>41</td>\n",
       "      <td>41</td>\n",
       "      <td>1</td>\n",
       "      <td>10</td>\n",
       "    </tr>\n",
       "    <tr>\n",
       "      <th>2016-04-25 10:25:00</th>\n",
       "      <td>24</td>\n",
       "      <td>41</td>\n",
       "      <td>7</td>\n",
       "      <td>9</td>\n",
       "    </tr>\n",
       "  </tbody>\n",
       "</table>\n",
       "</div>"
      ],
      "text/plain": [
       "                     open  high  low  close\n",
       "2016-04-25 09:30:00    39    43   13     18\n",
       "2016-04-25 09:35:00    19    44    4      4\n",
       "2016-04-25 09:40:00    46    46   12     12\n",
       "2016-04-25 09:45:00     4    30    1     30\n",
       "2016-04-25 09:50:00     8    47    8     13\n",
       "2016-04-25 09:55:00    21    49   21     21\n",
       "2016-04-25 10:00:00     9    26    1     26\n",
       "2016-04-25 10:05:00    28    49    4     22\n",
       "2016-04-25 10:10:00    11    47    4      4\n",
       "2016-04-25 10:15:00    41    46   39     40\n",
       "2016-04-25 10:20:00    41    41    1     10\n",
       "2016-04-25 10:25:00    24    41    7      9"
      ]
     },
     "execution_count": 55,
     "metadata": {},
     "output_type": "execute_result"
    }
   ],
   "source": [
    "ts.resample('5min',how='ohlc')"
   ]
  },
  {
   "cell_type": "code",
   "execution_count": 56,
   "metadata": {
    "collapsed": true
   },
   "outputs": [],
   "source": [
    "#通过groupby 重采样\n",
    "td = pd.Series(np.random.randint(0,50,100), index=pd.date_range('2016-03-01',periods=100,freq='D'))"
   ]
  },
  {
   "cell_type": "code",
   "execution_count": 57,
   "metadata": {
    "collapsed": false
   },
   "outputs": [
    {
     "data": {
      "text/plain": [
       "2016-03-01    35\n",
       "2016-03-02     9\n",
       "2016-03-03    25\n",
       "2016-03-04    13\n",
       "2016-03-05    33\n",
       "2016-03-06    19\n",
       "2016-03-07    34\n",
       "2016-03-08     2\n",
       "2016-03-09    44\n",
       "2016-03-10    34\n",
       "2016-03-11    16\n",
       "2016-03-12    22\n",
       "2016-03-13    30\n",
       "2016-03-14    13\n",
       "2016-03-15    13\n",
       "2016-03-16    16\n",
       "2016-03-17    15\n",
       "2016-03-18    32\n",
       "2016-03-19    45\n",
       "2016-03-20     1\n",
       "2016-03-21    39\n",
       "2016-03-22    10\n",
       "2016-03-23    49\n",
       "2016-03-24    19\n",
       "2016-03-25    10\n",
       "2016-03-26     1\n",
       "2016-03-27    13\n",
       "2016-03-28    36\n",
       "2016-03-29    36\n",
       "2016-03-30    26\n",
       "              ..\n",
       "2016-05-10    25\n",
       "2016-05-11    49\n",
       "2016-05-12    26\n",
       "2016-05-13    43\n",
       "2016-05-14    39\n",
       "2016-05-15    31\n",
       "2016-05-16     5\n",
       "2016-05-17    37\n",
       "2016-05-18    46\n",
       "2016-05-19    19\n",
       "2016-05-20     2\n",
       "2016-05-21     1\n",
       "2016-05-22    16\n",
       "2016-05-23     9\n",
       "2016-05-24    21\n",
       "2016-05-25    15\n",
       "2016-05-26    48\n",
       "2016-05-27    13\n",
       "2016-05-28    35\n",
       "2016-05-29    45\n",
       "2016-05-30    25\n",
       "2016-05-31    24\n",
       "2016-06-01     6\n",
       "2016-06-02    24\n",
       "2016-06-03    35\n",
       "2016-06-04    49\n",
       "2016-06-05    38\n",
       "2016-06-06    13\n",
       "2016-06-07     8\n",
       "2016-06-08    40\n",
       "Freq: D, dtype: int32"
      ]
     },
     "execution_count": 57,
     "metadata": {},
     "output_type": "execute_result"
    }
   ],
   "source": [
    "td"
   ]
  },
  {
   "cell_type": "raw",
   "metadata": {},
   "source": []
  },
  {
   "cell_type": "code",
   "execution_count": 58,
   "metadata": {
    "collapsed": false
   },
   "outputs": [
    {
     "data": {
      "text/plain": [
       "3    707\n",
       "4    736\n",
       "5    789\n",
       "6    213\n",
       "dtype: int32"
      ]
     },
     "execution_count": 58,
     "metadata": {},
     "output_type": "execute_result"
    }
   ],
   "source": [
    "td.groupby(lambda x:x.month ).sum()"
   ]
  },
  {
   "cell_type": "code",
   "execution_count": 60,
   "metadata": {
    "collapsed": false
   },
   "outputs": [
    {
     "data": {
      "text/plain": [
       "2016-03    707\n",
       "2016-04    736\n",
       "2016-05    789\n",
       "2016-06    213\n",
       "Freq: M, dtype: int32"
      ]
     },
     "execution_count": 60,
     "metadata": {},
     "output_type": "execute_result"
    }
   ],
   "source": [
    "td.groupby(td.index.to_period('M')).sum()"
   ]
  },
  {
   "cell_type": "code",
   "execution_count": null,
   "metadata": {
    "collapsed": true
   },
   "outputs": [],
   "source": []
  }
 ],
 "metadata": {
  "kernelspec": {
   "display_name": "Python 3",
   "language": "python",
   "name": "python3"
  },
  "language_info": {
   "codemirror_mode": {
    "name": "ipython",
    "version": 3
   },
   "file_extension": ".py",
   "mimetype": "text/x-python",
   "name": "python",
   "nbconvert_exporter": "python",
   "pygments_lexer": "ipython3",
   "version": "3.5.1"
  }
 },
 "nbformat": 4,
 "nbformat_minor": 1
}
