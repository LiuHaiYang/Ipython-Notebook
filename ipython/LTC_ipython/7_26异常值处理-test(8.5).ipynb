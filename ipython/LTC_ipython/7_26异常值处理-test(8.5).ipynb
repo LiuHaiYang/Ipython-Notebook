{
 "cells": [
  {
   "cell_type": "code",
   "execution_count": 1,
   "metadata": {
    "collapsed": true
   },
   "outputs": [],
   "source": [
    "%matplotlib inline\n",
    "import random\n",
    "import numpy as np\n",
    "import pandas as pd\n",
    "import matplotlib.pyplot as plt"
   ]
  },
  {
   "cell_type": "code",
   "execution_count": 2,
   "metadata": {
    "collapsed": false
   },
   "outputs": [
    {
     "data": {
      "text/html": [
       "<div>\n",
       "<table border=\"1\" class=\"dataframe\">\n",
       "  <thead>\n",
       "    <tr style=\"text-align: right;\">\n",
       "      <th></th>\n",
       "      <th>Unnamed: 0</th>\n",
       "      <th>seq</th>\n",
       "      <th>collcetion_latest_id</th>\n",
       "      <th>base_topic</th>\n",
       "      <th>dst</th>\n",
       "      <th>src</th>\n",
       "      <th>SNR</th>\n",
       "      <th>RSSIpkt</th>\n",
       "      <th>sensor_id</th>\n",
       "      <th>data</th>\n",
       "      <th>data_length</th>\n",
       "      <th>mote_lon</th>\n",
       "      <th>mote_lat</th>\n",
       "      <th>time</th>\n",
       "      <th>distance2base</th>\n",
       "    </tr>\n",
       "  </thead>\n",
       "  <tbody>\n",
       "    <tr>\n",
       "      <th>0</th>\n",
       "      <td>0</td>\n",
       "      <td>0</td>\n",
       "      <td>45</td>\n",
       "      <td>LTC-base1</td>\n",
       "      <td>1</td>\n",
       "      <td>5</td>\n",
       "      <td>8</td>\n",
       "      <td>-98</td>\n",
       "      <td>5</td>\n",
       "      <td>114.500082,36.571301</td>\n",
       "      <td>20</td>\n",
       "      <td>114.500082</td>\n",
       "      <td>36.571301</td>\n",
       "      <td>2017/7/26 7:59</td>\n",
       "      <td>1202.0</td>\n",
       "    </tr>\n",
       "    <tr>\n",
       "      <th>1</th>\n",
       "      <td>1</td>\n",
       "      <td>1</td>\n",
       "      <td>45</td>\n",
       "      <td>LTC-base1</td>\n",
       "      <td>1</td>\n",
       "      <td>5</td>\n",
       "      <td>8</td>\n",
       "      <td>-94</td>\n",
       "      <td>5</td>\n",
       "      <td>114.500088,36.571312</td>\n",
       "      <td>20</td>\n",
       "      <td>114.500088</td>\n",
       "      <td>36.571312</td>\n",
       "      <td>2017/7/26 7:59</td>\n",
       "      <td>1201.0</td>\n",
       "    </tr>\n",
       "    <tr>\n",
       "      <th>2</th>\n",
       "      <td>2</td>\n",
       "      <td>2</td>\n",
       "      <td>45</td>\n",
       "      <td>LTC-base1</td>\n",
       "      <td>1</td>\n",
       "      <td>5</td>\n",
       "      <td>8</td>\n",
       "      <td>-94</td>\n",
       "      <td>5</td>\n",
       "      <td>114.500092,36.571312</td>\n",
       "      <td>20</td>\n",
       "      <td>114.500092</td>\n",
       "      <td>36.571312</td>\n",
       "      <td>2017/7/26 7:59</td>\n",
       "      <td>1201.0</td>\n",
       "    </tr>\n",
       "    <tr>\n",
       "      <th>3</th>\n",
       "      <td>3</td>\n",
       "      <td>4</td>\n",
       "      <td>45</td>\n",
       "      <td>LTC-base1</td>\n",
       "      <td>1</td>\n",
       "      <td>5</td>\n",
       "      <td>8</td>\n",
       "      <td>-93</td>\n",
       "      <td>5</td>\n",
       "      <td>114.500099,36.571323</td>\n",
       "      <td>20</td>\n",
       "      <td>114.500099</td>\n",
       "      <td>36.571323</td>\n",
       "      <td>2017/7/26 7:59</td>\n",
       "      <td>1200.0</td>\n",
       "    </tr>\n",
       "    <tr>\n",
       "      <th>4</th>\n",
       "      <td>4</td>\n",
       "      <td>5</td>\n",
       "      <td>45</td>\n",
       "      <td>LTC-base1</td>\n",
       "      <td>1</td>\n",
       "      <td>5</td>\n",
       "      <td>8</td>\n",
       "      <td>-96</td>\n",
       "      <td>5</td>\n",
       "      <td>114.500102,36.571331</td>\n",
       "      <td>20</td>\n",
       "      <td>114.500102</td>\n",
       "      <td>36.571331</td>\n",
       "      <td>2017/7/26 7:59</td>\n",
       "      <td>1199.0</td>\n",
       "    </tr>\n",
       "  </tbody>\n",
       "</table>\n",
       "</div>"
      ],
      "text/plain": [
       "   Unnamed: 0  seq  collcetion_latest_id base_topic  dst  src  SNR  RSSIpkt  \\\n",
       "0           0    0                    45  LTC-base1    1    5    8      -98   \n",
       "1           1    1                    45  LTC-base1    1    5    8      -94   \n",
       "2           2    2                    45  LTC-base1    1    5    8      -94   \n",
       "3           3    4                    45  LTC-base1    1    5    8      -93   \n",
       "4           4    5                    45  LTC-base1    1    5    8      -96   \n",
       "\n",
       "   sensor_id                  data  data_length    mote_lon   mote_lat  \\\n",
       "0          5  114.500082,36.571301           20  114.500082  36.571301   \n",
       "1          5  114.500088,36.571312           20  114.500088  36.571312   \n",
       "2          5  114.500092,36.571312           20  114.500092  36.571312   \n",
       "3          5  114.500099,36.571323           20  114.500099  36.571323   \n",
       "4          5  114.500102,36.571331           20  114.500102  36.571331   \n",
       "\n",
       "             time  distance2base  \n",
       "0  2017/7/26 7:59         1202.0  \n",
       "1  2017/7/26 7:59         1201.0  \n",
       "2  2017/7/26 7:59         1201.0  \n",
       "3  2017/7/26 7:59         1200.0  \n",
       "4  2017/7/26 7:59         1199.0  "
      ]
     },
     "execution_count": 2,
     "metadata": {},
     "output_type": "execute_result"
    }
   ],
   "source": [
    "result = pd.read_csv('../LTC_Data_Test/7_26处理后数据(去重).csv',sep=',')\n",
    "result.head()"
   ]
  },
  {
   "cell_type": "code",
   "execution_count": 3,
   "metadata": {
    "collapsed": false
   },
   "outputs": [
    {
     "data": {
      "text/plain": [
       "Unnamed: 0              39\n",
       "seq                     39\n",
       "collcetion_latest_id    39\n",
       "base_topic              39\n",
       "dst                     39\n",
       "src                     39\n",
       "SNR                     39\n",
       "RSSIpkt                 39\n",
       "sensor_id               39\n",
       "data                    39\n",
       "data_length             39\n",
       "mote_lon                39\n",
       "mote_lat                39\n",
       "time                    39\n",
       "distance2base           39\n",
       "dtype: int64"
      ]
     },
     "execution_count": 3,
     "metadata": {},
     "output_type": "execute_result"
    }
   ],
   "source": [
    "result1 = result[result['src']==5]\n",
    "data1 = result1[result1['seq']>2]\n",
    "data2 = data1[data1['seq']<46]\n",
    "data2.count()"
   ]
  },
  {
   "cell_type": "code",
   "execution_count": null,
   "metadata": {
    "collapsed": true
   },
   "outputs": [],
   "source": []
  },
  {
   "cell_type": "code",
   "execution_count": 4,
   "metadata": {
    "collapsed": false
   },
   "outputs": [
    {
     "data": {
      "text/plain": [
       "count     39\n",
       "mean     -97\n",
       "std        3\n",
       "min     -105\n",
       "25%     -101\n",
       "50%      -96\n",
       "75%      -95\n",
       "max      -93\n",
       "Name: RSSIpkt, dtype: int64"
      ]
     },
     "execution_count": 4,
     "metadata": {},
     "output_type": "execute_result"
    }
   ],
   "source": [
    "data2['RSSIpkt'].describe().astype(np.int64).T"
   ]
  },
  {
   "cell_type": "code",
   "execution_count": 5,
   "metadata": {
    "collapsed": false
   },
   "outputs": [
    {
     "data": {
      "text/plain": [
       "{'boxes': [<matplotlib.lines.Line2D at 0x90fdd30>],\n",
       " 'caps': [<matplotlib.lines.Line2D at 0x9107890>,\n",
       "  <matplotlib.lines.Line2D at 0x9107d50>],\n",
       " 'fliers': [<matplotlib.lines.Line2D at 0x91116f0>],\n",
       " 'means': [],\n",
       " 'medians': [<matplotlib.lines.Line2D at 0x9111610>],\n",
       " 'whiskers': [<matplotlib.lines.Line2D at 0x90fde70>,\n",
       "  <matplotlib.lines.Line2D at 0x91073d0>]}"
      ]
     },
     "execution_count": 5,
     "metadata": {},
     "output_type": "execute_result"
    },
    {
     "data": {
      "image/png": "[encoded data removed]",
      "text/plain": [
       "<matplotlib.figure.Figure at 0x82261b0>"
      ]
     },
     "metadata": {},
     "output_type": "display_data"
    }
   ],
   "source": [
    "# csvs_3 = csvs[csvs['src']==3]\n",
    "data3_RSS=data2['RSSIpkt']\n",
    "snr2 =[]\n",
    "for i in data3_RSS:\n",
    "    snr2.append(i)\n",
    "snr2\n",
    "plt.boxplot(snr2)\n",
    "# ax=plt.gca()\n",
    "# ax.locator_params('x',nbins=10)\n",
    "# ax.locator_params('y',nbins=20)"
   ]
  },
  {
   "cell_type": "code",
   "execution_count": 6,
   "metadata": {
    "collapsed": false
   },
   "outputs": [
    {
     "data": {
      "text/plain": [
       "count     39\n",
       "mean     -97\n",
       "std        3\n",
       "min     -105\n",
       "25%     -101\n",
       "50%      -96\n",
       "75%      -95\n",
       "max      -93\n",
       "Name: RSSIpkt, dtype: int64"
      ]
     },
     "execution_count": 6,
     "metadata": {},
     "output_type": "execute_result"
    }
   ],
   "source": [
    "q = data2['RSSIpkt'].describe().astype(np.int64).T\n",
    "q"
   ]
  },
  {
   "cell_type": "code",
   "execution_count": 7,
   "metadata": {
    "collapsed": false,
    "scrolled": true
   },
   "outputs": [
    {
     "data": {
      "text/plain": [
       "Unnamed: 0              39\n",
       "seq                     39\n",
       "collcetion_latest_id    39\n",
       "base_topic              39\n",
       "dst                     39\n",
       "src                     39\n",
       "SNR                     39\n",
       "RSSIpkt                 39\n",
       "sensor_id               39\n",
       "data                    39\n",
       "data_length             39\n",
       "mote_lon                39\n",
       "mote_lat                39\n",
       "time                    39\n",
       "distance2base           39\n",
       "dtype: int64"
      ]
     },
     "execution_count": 7,
     "metadata": {},
     "output_type": "execute_result"
    }
   ],
   "source": [
    "data2.count()"
   ]
  },
  {
   "cell_type": "code",
   "execution_count": 8,
   "metadata": {
    "collapsed": false
   },
   "outputs": [
    {
     "data": {
      "text/plain": [
       "RSSIpkt    39\n",
       "abnorma     0\n",
       "dtype: int64"
      ]
     },
     "execution_count": 8,
     "metadata": {},
     "output_type": "execute_result"
    }
   ],
   "source": [
    "llll = pd.DataFrame(data2,columns=[['RSSIpkt','abnorma']])\n",
    "llll.count()"
   ]
  },
  {
   "cell_type": "code",
   "execution_count": 9,
   "metadata": {
    "collapsed": false
   },
   "outputs": [],
   "source": [
    "l= data2['RSSIpkt'].describe().astype(np.int64).T\n",
    "Q1 = l[4]\n",
    "Q3 = l[6]\n",
    "IQR = Q1-Q3\n",
    "up_border = Q3 + 1.5*IQR\n",
    "below_border = Q1 - 1.5*IQR"
   ]
  },
  {
   "cell_type": "code",
   "execution_count": 10,
   "metadata": {
    "collapsed": false
   },
   "outputs": [
    {
     "data": {
      "text/plain": [
       "-104.0"
      ]
     },
     "execution_count": 10,
     "metadata": {},
     "output_type": "execute_result"
    }
   ],
   "source": [
    "up_border\n",
    "below_border"
   ]
  },
  {
   "cell_type": "code",
   "execution_count": 18,
   "metadata": {
    "collapsed": false
   },
   "outputs": [
    {
     "name": "stdout",
     "output_type": "stream",
     "text": [
      "Unnamed: 0\n",
      "seq\n",
      "collcetion_latest_id\n",
      "base_topic\n",
      "dst\n",
      "src\n",
      "SNR\n",
      "RSSIpkt\n",
      "sensor_id\n",
      "data\n",
      "data_length\n",
      "mote_lon\n",
      "mote_lat\n",
      "time\n",
      "distance2base\n"
     ]
    }
   ],
   "source": [
    "for i in data2:\n",
    "    print(i)"
   ]
  },
  {
   "cell_type": "code",
   "execution_count": 12,
   "metadata": {
    "collapsed": true
   },
   "outputs": [
    {
     "name": "stdout",
     "output_type": "stream",
     "text": [
      "-93\n",
      "-96\n",
      "-94\n",
      "-95\n",
      "-95\n",
      "-96\n",
      "-102\n",
      "-103\n",
      "-102\n",
      "-103\n",
      "-102\n",
      "-101\n",
      "-102\n",
      "-105\n",
      "-103\n",
      "-103\n",
      "-101\n",
      "-96\n",
      "-97\n",
      "-97\n",
      "-97\n",
      "-97\n",
      "-97\n",
      "-96\n",
      "-96\n",
      "-101\n",
      "-96\n",
      "-96\n",
      "-97\n",
      "-95\n",
      "-94\n",
      "-94\n",
      "-95\n",
      "-95\n",
      "-94\n",
      "-93\n",
      "-95\n",
      "-95\n",
      "-95\n"
     ]
    }
   ],
   "source": [
    "data_index = llll['RSSIpkt']\n",
    "for i in data_index:\n",
    "    if i > up_border and i < below_border:\n",
    "        llll['abnorma'] ='T'\n",
    "    else:\n",
    "        llll['abnorma'] ='F'"
   ]
  },
  {
   "cell_type": "code",
   "execution_count": 81,
   "metadata": {
    "collapsed": false
   },
   "outputs": [
    {
     "data": {
      "text/plain": [
       "RSSIpkt    39\n",
       "abnorma    39\n",
       "dtype: int64"
      ]
     },
     "execution_count": 81,
     "metadata": {},
     "output_type": "execute_result"
    }
   ],
   "source": [
    "llll.count()"
   ]
  },
  {
   "cell_type": "code",
   "execution_count": 82,
   "metadata": {
    "collapsed": false
   },
   "outputs": [
    {
     "data": {
      "text/html": [
       "<div>\n",
       "<table border=\"1\" class=\"dataframe\">\n",
       "  <thead>\n",
       "    <tr style=\"text-align: right;\">\n",
       "      <th></th>\n",
       "      <th>RSSIpkt</th>\n",
       "      <th>abnorma</th>\n",
       "    </tr>\n",
       "  </thead>\n",
       "  <tbody>\n",
       "    <tr>\n",
       "      <th>3</th>\n",
       "      <td>-93</td>\n",
       "      <td>T</td>\n",
       "    </tr>\n",
       "    <tr>\n",
       "      <th>4</th>\n",
       "      <td>-96</td>\n",
       "      <td>T</td>\n",
       "    </tr>\n",
       "    <tr>\n",
       "      <th>5</th>\n",
       "      <td>-94</td>\n",
       "      <td>T</td>\n",
       "    </tr>\n",
       "    <tr>\n",
       "      <th>6</th>\n",
       "      <td>-95</td>\n",
       "      <td>T</td>\n",
       "    </tr>\n",
       "    <tr>\n",
       "      <th>7</th>\n",
       "      <td>-95</td>\n",
       "      <td>T</td>\n",
       "    </tr>\n",
       "    <tr>\n",
       "      <th>8</th>\n",
       "      <td>-96</td>\n",
       "      <td>T</td>\n",
       "    </tr>\n",
       "    <tr>\n",
       "      <th>9</th>\n",
       "      <td>-102</td>\n",
       "      <td>T</td>\n",
       "    </tr>\n",
       "    <tr>\n",
       "      <th>10</th>\n",
       "      <td>-103</td>\n",
       "      <td>T</td>\n",
       "    </tr>\n",
       "    <tr>\n",
       "      <th>11</th>\n",
       "      <td>-102</td>\n",
       "      <td>T</td>\n",
       "    </tr>\n",
       "    <tr>\n",
       "      <th>12</th>\n",
       "      <td>-103</td>\n",
       "      <td>T</td>\n",
       "    </tr>\n",
       "    <tr>\n",
       "      <th>13</th>\n",
       "      <td>-102</td>\n",
       "      <td>T</td>\n",
       "    </tr>\n",
       "    <tr>\n",
       "      <th>14</th>\n",
       "      <td>-101</td>\n",
       "      <td>T</td>\n",
       "    </tr>\n",
       "    <tr>\n",
       "      <th>15</th>\n",
       "      <td>-102</td>\n",
       "      <td>T</td>\n",
       "    </tr>\n",
       "    <tr>\n",
       "      <th>16</th>\n",
       "      <td>-105</td>\n",
       "      <td>T</td>\n",
       "    </tr>\n",
       "    <tr>\n",
       "      <th>17</th>\n",
       "      <td>-103</td>\n",
       "      <td>T</td>\n",
       "    </tr>\n",
       "    <tr>\n",
       "      <th>18</th>\n",
       "      <td>-103</td>\n",
       "      <td>T</td>\n",
       "    </tr>\n",
       "    <tr>\n",
       "      <th>19</th>\n",
       "      <td>-101</td>\n",
       "      <td>T</td>\n",
       "    </tr>\n",
       "    <tr>\n",
       "      <th>20</th>\n",
       "      <td>-96</td>\n",
       "      <td>T</td>\n",
       "    </tr>\n",
       "    <tr>\n",
       "      <th>21</th>\n",
       "      <td>-97</td>\n",
       "      <td>T</td>\n",
       "    </tr>\n",
       "    <tr>\n",
       "      <th>22</th>\n",
       "      <td>-97</td>\n",
       "      <td>T</td>\n",
       "    </tr>\n",
       "    <tr>\n",
       "      <th>23</th>\n",
       "      <td>-97</td>\n",
       "      <td>T</td>\n",
       "    </tr>\n",
       "    <tr>\n",
       "      <th>24</th>\n",
       "      <td>-97</td>\n",
       "      <td>T</td>\n",
       "    </tr>\n",
       "    <tr>\n",
       "      <th>25</th>\n",
       "      <td>-97</td>\n",
       "      <td>T</td>\n",
       "    </tr>\n",
       "    <tr>\n",
       "      <th>26</th>\n",
       "      <td>-96</td>\n",
       "      <td>T</td>\n",
       "    </tr>\n",
       "    <tr>\n",
       "      <th>27</th>\n",
       "      <td>-96</td>\n",
       "      <td>T</td>\n",
       "    </tr>\n",
       "    <tr>\n",
       "      <th>28</th>\n",
       "      <td>-101</td>\n",
       "      <td>T</td>\n",
       "    </tr>\n",
       "    <tr>\n",
       "      <th>29</th>\n",
       "      <td>-96</td>\n",
       "      <td>T</td>\n",
       "    </tr>\n",
       "    <tr>\n",
       "      <th>30</th>\n",
       "      <td>-96</td>\n",
       "      <td>T</td>\n",
       "    </tr>\n",
       "    <tr>\n",
       "      <th>31</th>\n",
       "      <td>-97</td>\n",
       "      <td>T</td>\n",
       "    </tr>\n",
       "    <tr>\n",
       "      <th>32</th>\n",
       "      <td>-95</td>\n",
       "      <td>T</td>\n",
       "    </tr>\n",
       "    <tr>\n",
       "      <th>33</th>\n",
       "      <td>-94</td>\n",
       "      <td>T</td>\n",
       "    </tr>\n",
       "    <tr>\n",
       "      <th>34</th>\n",
       "      <td>-94</td>\n",
       "      <td>T</td>\n",
       "    </tr>\n",
       "    <tr>\n",
       "      <th>35</th>\n",
       "      <td>-95</td>\n",
       "      <td>T</td>\n",
       "    </tr>\n",
       "    <tr>\n",
       "      <th>36</th>\n",
       "      <td>-95</td>\n",
       "      <td>T</td>\n",
       "    </tr>\n",
       "    <tr>\n",
       "      <th>37</th>\n",
       "      <td>-94</td>\n",
       "      <td>T</td>\n",
       "    </tr>\n",
       "    <tr>\n",
       "      <th>38</th>\n",
       "      <td>-93</td>\n",
       "      <td>T</td>\n",
       "    </tr>\n",
       "    <tr>\n",
       "      <th>39</th>\n",
       "      <td>-95</td>\n",
       "      <td>T</td>\n",
       "    </tr>\n",
       "    <tr>\n",
       "      <th>40</th>\n",
       "      <td>-95</td>\n",
       "      <td>T</td>\n",
       "    </tr>\n",
       "    <tr>\n",
       "      <th>41</th>\n",
       "      <td>-95</td>\n",
       "      <td>T</td>\n",
       "    </tr>\n",
       "  </tbody>\n",
       "</table>\n",
       "</div>"
      ],
      "text/plain": [
       "    RSSIpkt abnorma\n",
       "3       -93       T\n",
       "4       -96       T\n",
       "5       -94       T\n",
       "6       -95       T\n",
       "7       -95       T\n",
       "8       -96       T\n",
       "9      -102       T\n",
       "10     -103       T\n",
       "11     -102       T\n",
       "12     -103       T\n",
       "13     -102       T\n",
       "14     -101       T\n",
       "15     -102       T\n",
       "16     -105       T\n",
       "17     -103       T\n",
       "18     -103       T\n",
       "19     -101       T\n",
       "20      -96       T\n",
       "21      -97       T\n",
       "22      -97       T\n",
       "23      -97       T\n",
       "24      -97       T\n",
       "25      -97       T\n",
       "26      -96       T\n",
       "27      -96       T\n",
       "28     -101       T\n",
       "29      -96       T\n",
       "30      -96       T\n",
       "31      -97       T\n",
       "32      -95       T\n",
       "33      -94       T\n",
       "34      -94       T\n",
       "35      -95       T\n",
       "36      -95       T\n",
       "37      -94       T\n",
       "38      -93       T\n",
       "39      -95       T\n",
       "40      -95       T\n",
       "41      -95       T"
      ]
     },
     "execution_count": 82,
     "metadata": {},
     "output_type": "execute_result"
    }
   ],
   "source": [
    "llll"
   ]
  },
  {
   "cell_type": "code",
   "execution_count": null,
   "metadata": {
    "collapsed": true
   },
   "outputs": [],
   "source": []
  }
 ],
 "metadata": {
  "kernelspec": {
   "display_name": "Python 3",
   "language": "python",
   "name": "python3"
  },
  "language_info": {
   "codemirror_mode": {
    "name": "ipython",
    "version": 3
   },
   "file_extension": ".py",
   "mimetype": "text/x-python",
   "name": "python",
   "nbconvert_exporter": "python",
   "pygments_lexer": "ipython3",
   "version": "3.5.1"
  }
 },
 "nbformat": 4,
 "nbformat_minor": 1
}
