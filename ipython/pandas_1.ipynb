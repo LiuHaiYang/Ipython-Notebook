{
 "cells": [
  {
   "cell_type": "code",
   "execution_count": 1,
   "metadata": {
    "collapsed": true
   },
   "outputs": [],
   "source": [
    "import pandas as pd"
   ]
  },
  {
   "cell_type": "code",
   "execution_count": 3,
   "metadata": {
    "collapsed": false
   },
   "outputs": [],
   "source": [
    "import numpy as np"
   ]
  },
  {
   "cell_type": "code",
   "execution_count": 4,
   "metadata": {
    "collapsed": true
   },
   "outputs": [],
   "source": [
    "s = pd.Series([1,3,5,7,np.NaN])"
   ]
  },
  {
   "cell_type": "code",
   "execution_count": 5,
   "metadata": {
    "collapsed": false
   },
   "outputs": [
    {
     "data": {
      "text/plain": [
       "0    1.0\n",
       "1    3.0\n",
       "2    5.0\n",
       "3    7.0\n",
       "4    NaN\n",
       "dtype: float64"
      ]
     },
     "execution_count": 5,
     "metadata": {},
     "output_type": "execute_result"
    }
   ],
   "source": [
    "s"
   ]
  },
  {
   "cell_type": "code",
   "execution_count": 10,
   "metadata": {
    "collapsed": true
   },
   "outputs": [],
   "source": [
    "dates  = pd.date_range('20161101',periods=6)"
   ]
  },
  {
   "cell_type": "code",
   "execution_count": 11,
   "metadata": {
    "collapsed": false
   },
   "outputs": [
    {
     "data": {
      "text/plain": [
       "DatetimeIndex(['2016-11-01', '2016-11-02', '2016-11-03', '2016-11-04',\n",
       "               '2016-11-05', '2016-11-06'],\n",
       "              dtype='datetime64[ns]', freq='D')"
      ]
     },
     "execution_count": 11,
     "metadata": {},
     "output_type": "execute_result"
    }
   ],
   "source": [
    "dates"
   ]
  },
  {
   "cell_type": "code",
   "execution_count": 13,
   "metadata": {
    "collapsed": false
   },
   "outputs": [],
   "source": [
    "data1 = pd.DataFrame(np.random.rand(6,4), index=dates,columns=list('ABCD'))"
   ]
  },
  {
   "cell_type": "code",
   "execution_count": 14,
   "metadata": {
    "collapsed": false
   },
   "outputs": [
    {
     "data": {
      "text/html": [
       "<div>\n",
       "<table border=\"1\" class=\"dataframe\">\n",
       "  <thead>\n",
       "    <tr style=\"text-align: right;\">\n",
       "      <th></th>\n",
       "      <th>A</th>\n",
       "      <th>B</th>\n",
       "      <th>C</th>\n",
       "      <th>D</th>\n",
       "    </tr>\n",
       "  </thead>\n",
       "  <tbody>\n",
       "    <tr>\n",
       "      <th>2016-11-01</th>\n",
       "      <td>0.613444</td>\n",
       "      <td>0.155859</td>\n",
       "      <td>0.002328</td>\n",
       "      <td>0.719616</td>\n",
       "    </tr>\n",
       "    <tr>\n",
       "      <th>2016-11-02</th>\n",
       "      <td>0.771170</td>\n",
       "      <td>0.947750</td>\n",
       "      <td>0.391916</td>\n",
       "      <td>0.697420</td>\n",
       "    </tr>\n",
       "    <tr>\n",
       "      <th>2016-11-03</th>\n",
       "      <td>0.343282</td>\n",
       "      <td>0.381394</td>\n",
       "      <td>0.475559</td>\n",
       "      <td>0.513198</td>\n",
       "    </tr>\n",
       "    <tr>\n",
       "      <th>2016-11-04</th>\n",
       "      <td>0.256097</td>\n",
       "      <td>0.502232</td>\n",
       "      <td>0.127405</td>\n",
       "      <td>0.445335</td>\n",
       "    </tr>\n",
       "    <tr>\n",
       "      <th>2016-11-05</th>\n",
       "      <td>0.878900</td>\n",
       "      <td>0.945557</td>\n",
       "      <td>0.272598</td>\n",
       "      <td>0.954426</td>\n",
       "    </tr>\n",
       "    <tr>\n",
       "      <th>2016-11-06</th>\n",
       "      <td>0.679155</td>\n",
       "      <td>0.249103</td>\n",
       "      <td>0.568238</td>\n",
       "      <td>0.252042</td>\n",
       "    </tr>\n",
       "  </tbody>\n",
       "</table>\n",
       "</div>"
      ],
      "text/plain": [
       "                   A         B         C         D\n",
       "2016-11-01  0.613444  0.155859  0.002328  0.719616\n",
       "2016-11-02  0.771170  0.947750  0.391916  0.697420\n",
       "2016-11-03  0.343282  0.381394  0.475559  0.513198\n",
       "2016-11-04  0.256097  0.502232  0.127405  0.445335\n",
       "2016-11-05  0.878900  0.945557  0.272598  0.954426\n",
       "2016-11-06  0.679155  0.249103  0.568238  0.252042"
      ]
     },
     "execution_count": 14,
     "metadata": {},
     "output_type": "execute_result"
    }
   ],
   "source": [
    "data1"
   ]
  },
  {
   "cell_type": "code",
   "execution_count": 15,
   "metadata": {
    "collapsed": false
   },
   "outputs": [
    {
     "data": {
      "text/plain": [
       "(6, 4)"
      ]
     },
     "execution_count": 15,
     "metadata": {},
     "output_type": "execute_result"
    }
   ],
   "source": [
    "data1.shape"
   ]
  },
  {
   "cell_type": "code",
   "execution_count": 16,
   "metadata": {
    "collapsed": false
   },
   "outputs": [
    {
     "data": {
      "text/plain": [
       "array([[ 0.61344373,  0.15585913,  0.0023283 ,  0.71961638],\n",
       "       [ 0.77117024,  0.94775028,  0.39191633,  0.69741953],\n",
       "       [ 0.34328192,  0.3813943 ,  0.47555933,  0.51319786],\n",
       "       [ 0.25609714,  0.50223224,  0.12740476,  0.44533509],\n",
       "       [ 0.87889952,  0.94555657,  0.27259822,  0.95442551],\n",
       "       [ 0.6791551 ,  0.24910261,  0.56823842,  0.25204199]])"
      ]
     },
     "execution_count": 16,
     "metadata": {},
     "output_type": "execute_result"
    }
   ],
   "source": [
    "data1.values"
   ]
  },
  {
   "cell_type": "code",
   "execution_count": 17,
   "metadata": {
    "collapsed": false
   },
   "outputs": [
    {
     "data": {
      "text/html": [
       "<div>\n",
       "<table border=\"1\" class=\"dataframe\">\n",
       "  <thead>\n",
       "    <tr style=\"text-align: right;\">\n",
       "      <th></th>\n",
       "      <th>A</th>\n",
       "      <th>B</th>\n",
       "      <th>C</th>\n",
       "      <th>D</th>\n",
       "    </tr>\n",
       "  </thead>\n",
       "  <tbody>\n",
       "    <tr>\n",
       "      <th>2016-11-01</th>\n",
       "      <td>0.613444</td>\n",
       "      <td>0.155859</td>\n",
       "      <td>0.002328</td>\n",
       "      <td>0.719616</td>\n",
       "    </tr>\n",
       "    <tr>\n",
       "      <th>2016-11-02</th>\n",
       "      <td>0.771170</td>\n",
       "      <td>0.947750</td>\n",
       "      <td>0.391916</td>\n",
       "      <td>0.697420</td>\n",
       "    </tr>\n",
       "    <tr>\n",
       "      <th>2016-11-03</th>\n",
       "      <td>0.343282</td>\n",
       "      <td>0.381394</td>\n",
       "      <td>0.475559</td>\n",
       "      <td>0.513198</td>\n",
       "    </tr>\n",
       "    <tr>\n",
       "      <th>2016-11-04</th>\n",
       "      <td>0.256097</td>\n",
       "      <td>0.502232</td>\n",
       "      <td>0.127405</td>\n",
       "      <td>0.445335</td>\n",
       "    </tr>\n",
       "    <tr>\n",
       "      <th>2016-11-05</th>\n",
       "      <td>0.878900</td>\n",
       "      <td>0.945557</td>\n",
       "      <td>0.272598</td>\n",
       "      <td>0.954426</td>\n",
       "    </tr>\n",
       "    <tr>\n",
       "      <th>2016-11-06</th>\n",
       "      <td>0.679155</td>\n",
       "      <td>0.249103</td>\n",
       "      <td>0.568238</td>\n",
       "      <td>0.252042</td>\n",
       "    </tr>\n",
       "  </tbody>\n",
       "</table>\n",
       "</div>"
      ],
      "text/plain": [
       "                   A         B         C         D\n",
       "2016-11-01  0.613444  0.155859  0.002328  0.719616\n",
       "2016-11-02  0.771170  0.947750  0.391916  0.697420\n",
       "2016-11-03  0.343282  0.381394  0.475559  0.513198\n",
       "2016-11-04  0.256097  0.502232  0.127405  0.445335\n",
       "2016-11-05  0.878900  0.945557  0.272598  0.954426\n",
       "2016-11-06  0.679155  0.249103  0.568238  0.252042"
      ]
     },
     "execution_count": 17,
     "metadata": {},
     "output_type": "execute_result"
    }
   ],
   "source": [
    "data1"
   ]
  },
  {
   "cell_type": "code",
   "execution_count": 18,
   "metadata": {
    "collapsed": false
   },
   "outputs": [
    {
     "data": {
      "text/plain": [
       "<bound method NDFrame.head of                    A         B         C         D\n",
       "2016-11-01  0.613444  0.155859  0.002328  0.719616\n",
       "2016-11-02  0.771170  0.947750  0.391916  0.697420\n",
       "2016-11-03  0.343282  0.381394  0.475559  0.513198\n",
       "2016-11-04  0.256097  0.502232  0.127405  0.445335\n",
       "2016-11-05  0.878900  0.945557  0.272598  0.954426\n",
       "2016-11-06  0.679155  0.249103  0.568238  0.252042>"
      ]
     },
     "execution_count": 18,
     "metadata": {},
     "output_type": "execute_result"
    }
   ],
   "source": [
    "data1.head"
   ]
  },
  {
   "cell_type": "code",
   "execution_count": 19,
   "metadata": {
    "collapsed": false
   },
   "outputs": [
    {
     "data": {
      "text/html": [
       "<div>\n",
       "<table border=\"1\" class=\"dataframe\">\n",
       "  <thead>\n",
       "    <tr style=\"text-align: right;\">\n",
       "      <th></th>\n",
       "      <th>A</th>\n",
       "      <th>B</th>\n",
       "      <th>C</th>\n",
       "      <th>D</th>\n",
       "    </tr>\n",
       "  </thead>\n",
       "  <tbody>\n",
       "    <tr>\n",
       "      <th>2016-11-01</th>\n",
       "      <td>0.613444</td>\n",
       "      <td>0.155859</td>\n",
       "      <td>0.002328</td>\n",
       "      <td>0.719616</td>\n",
       "    </tr>\n",
       "    <tr>\n",
       "      <th>2016-11-02</th>\n",
       "      <td>0.771170</td>\n",
       "      <td>0.947750</td>\n",
       "      <td>0.391916</td>\n",
       "      <td>0.697420</td>\n",
       "    </tr>\n",
       "  </tbody>\n",
       "</table>\n",
       "</div>"
      ],
      "text/plain": [
       "                   A         B         C         D\n",
       "2016-11-01  0.613444  0.155859  0.002328  0.719616\n",
       "2016-11-02  0.771170  0.947750  0.391916  0.697420"
      ]
     },
     "execution_count": 19,
     "metadata": {},
     "output_type": "execute_result"
    }
   ],
   "source": [
    "data1.head(2)"
   ]
  },
  {
   "cell_type": "code",
   "execution_count": 20,
   "metadata": {
    "collapsed": false
   },
   "outputs": [
    {
     "data": {
      "text/plain": [
       "<bound method NDFrame.tail of                    A         B         C         D\n",
       "2016-11-01  0.613444  0.155859  0.002328  0.719616\n",
       "2016-11-02  0.771170  0.947750  0.391916  0.697420\n",
       "2016-11-03  0.343282  0.381394  0.475559  0.513198\n",
       "2016-11-04  0.256097  0.502232  0.127405  0.445335\n",
       "2016-11-05  0.878900  0.945557  0.272598  0.954426\n",
       "2016-11-06  0.679155  0.249103  0.568238  0.252042>"
      ]
     },
     "execution_count": 20,
     "metadata": {},
     "output_type": "execute_result"
    }
   ],
   "source": [
    "data1.tail"
   ]
  },
  {
   "cell_type": "code",
   "execution_count": 21,
   "metadata": {
    "collapsed": false
   },
   "outputs": [
    {
     "data": {
      "text/html": [
       "<div>\n",
       "<table border=\"1\" class=\"dataframe\">\n",
       "  <thead>\n",
       "    <tr style=\"text-align: right;\">\n",
       "      <th></th>\n",
       "      <th>A</th>\n",
       "      <th>B</th>\n",
       "      <th>C</th>\n",
       "      <th>D</th>\n",
       "    </tr>\n",
       "  </thead>\n",
       "  <tbody>\n",
       "    <tr>\n",
       "      <th>2016-11-05</th>\n",
       "      <td>0.878900</td>\n",
       "      <td>0.945557</td>\n",
       "      <td>0.272598</td>\n",
       "      <td>0.954426</td>\n",
       "    </tr>\n",
       "    <tr>\n",
       "      <th>2016-11-06</th>\n",
       "      <td>0.679155</td>\n",
       "      <td>0.249103</td>\n",
       "      <td>0.568238</td>\n",
       "      <td>0.252042</td>\n",
       "    </tr>\n",
       "  </tbody>\n",
       "</table>\n",
       "</div>"
      ],
      "text/plain": [
       "                   A         B         C         D\n",
       "2016-11-05  0.878900  0.945557  0.272598  0.954426\n",
       "2016-11-06  0.679155  0.249103  0.568238  0.252042"
      ]
     },
     "execution_count": 21,
     "metadata": {},
     "output_type": "execute_result"
    }
   ],
   "source": [
    "data1.tail(2)"
   ]
  },
  {
   "cell_type": "code",
   "execution_count": 22,
   "metadata": {
    "collapsed": false
   },
   "outputs": [
    {
     "data": {
      "text/plain": [
       "DatetimeIndex(['2016-11-01', '2016-11-02', '2016-11-03', '2016-11-04',\n",
       "               '2016-11-05', '2016-11-06'],\n",
       "              dtype='datetime64[ns]', freq='D')"
      ]
     },
     "execution_count": 22,
     "metadata": {},
     "output_type": "execute_result"
    }
   ],
   "source": [
    "data1.index"
   ]
  },
  {
   "cell_type": "code",
   "execution_count": 23,
   "metadata": {
    "collapsed": false
   },
   "outputs": [
    {
     "data": {
      "text/plain": [
       "Index(['A', 'B', 'C', 'D'], dtype='object')"
      ]
     },
     "execution_count": 23,
     "metadata": {},
     "output_type": "execute_result"
    }
   ],
   "source": [
    "data1.columns"
   ]
  },
  {
   "cell_type": "code",
   "execution_count": 24,
   "metadata": {
    "collapsed": false
   },
   "outputs": [
    {
     "data": {
      "text/plain": [
       "array([[ 0.61344373,  0.15585913,  0.0023283 ,  0.71961638],\n",
       "       [ 0.77117024,  0.94775028,  0.39191633,  0.69741953],\n",
       "       [ 0.34328192,  0.3813943 ,  0.47555933,  0.51319786],\n",
       "       [ 0.25609714,  0.50223224,  0.12740476,  0.44533509],\n",
       "       [ 0.87889952,  0.94555657,  0.27259822,  0.95442551],\n",
       "       [ 0.6791551 ,  0.24910261,  0.56823842,  0.25204199]])"
      ]
     },
     "execution_count": 24,
     "metadata": {},
     "output_type": "execute_result"
    }
   ],
   "source": [
    "data1.values"
   ]
  },
  {
   "cell_type": "code",
   "execution_count": 25,
   "metadata": {
    "collapsed": false
   },
   "outputs": [
    {
     "data": {
      "text/html": [
       "<div>\n",
       "<table border=\"1\" class=\"dataframe\">\n",
       "  <thead>\n",
       "    <tr style=\"text-align: right;\">\n",
       "      <th></th>\n",
       "      <th>A</th>\n",
       "      <th>B</th>\n",
       "      <th>C</th>\n",
       "      <th>D</th>\n",
       "    </tr>\n",
       "  </thead>\n",
       "  <tbody>\n",
       "    <tr>\n",
       "      <th>count</th>\n",
       "      <td>6.000000</td>\n",
       "      <td>6.000000</td>\n",
       "      <td>6.000000</td>\n",
       "      <td>6.000000</td>\n",
       "    </tr>\n",
       "    <tr>\n",
       "      <th>mean</th>\n",
       "      <td>0.590341</td>\n",
       "      <td>0.530316</td>\n",
       "      <td>0.306341</td>\n",
       "      <td>0.597006</td>\n",
       "    </tr>\n",
       "    <tr>\n",
       "      <th>std</th>\n",
       "      <td>0.243780</td>\n",
       "      <td>0.343203</td>\n",
       "      <td>0.214536</td>\n",
       "      <td>0.245721</td>\n",
       "    </tr>\n",
       "    <tr>\n",
       "      <th>min</th>\n",
       "      <td>0.256097</td>\n",
       "      <td>0.155859</td>\n",
       "      <td>0.002328</td>\n",
       "      <td>0.252042</td>\n",
       "    </tr>\n",
       "    <tr>\n",
       "      <th>25%</th>\n",
       "      <td>0.410822</td>\n",
       "      <td>0.282176</td>\n",
       "      <td>0.163703</td>\n",
       "      <td>0.462301</td>\n",
       "    </tr>\n",
       "    <tr>\n",
       "      <th>50%</th>\n",
       "      <td>0.646299</td>\n",
       "      <td>0.441813</td>\n",
       "      <td>0.332257</td>\n",
       "      <td>0.605309</td>\n",
       "    </tr>\n",
       "    <tr>\n",
       "      <th>75%</th>\n",
       "      <td>0.748166</td>\n",
       "      <td>0.834725</td>\n",
       "      <td>0.454649</td>\n",
       "      <td>0.714067</td>\n",
       "    </tr>\n",
       "    <tr>\n",
       "      <th>max</th>\n",
       "      <td>0.878900</td>\n",
       "      <td>0.947750</td>\n",
       "      <td>0.568238</td>\n",
       "      <td>0.954426</td>\n",
       "    </tr>\n",
       "  </tbody>\n",
       "</table>\n",
       "</div>"
      ],
      "text/plain": [
       "              A         B         C         D\n",
       "count  6.000000  6.000000  6.000000  6.000000\n",
       "mean   0.590341  0.530316  0.306341  0.597006\n",
       "std    0.243780  0.343203  0.214536  0.245721\n",
       "min    0.256097  0.155859  0.002328  0.252042\n",
       "25%    0.410822  0.282176  0.163703  0.462301\n",
       "50%    0.646299  0.441813  0.332257  0.605309\n",
       "75%    0.748166  0.834725  0.454649  0.714067\n",
       "max    0.878900  0.947750  0.568238  0.954426"
      ]
     },
     "execution_count": 25,
     "metadata": {},
     "output_type": "execute_result"
    }
   ],
   "source": [
    "data1.describe()"
   ]
  },
  {
   "cell_type": "code",
   "execution_count": 26,
   "metadata": {
    "collapsed": false
   },
   "outputs": [
    {
     "data": {
      "text/html": [
       "<div>\n",
       "<table border=\"1\" class=\"dataframe\">\n",
       "  <thead>\n",
       "    <tr style=\"text-align: right;\">\n",
       "      <th></th>\n",
       "      <th>2016-11-01 00:00:00</th>\n",
       "      <th>2016-11-02 00:00:00</th>\n",
       "      <th>2016-11-03 00:00:00</th>\n",
       "      <th>2016-11-04 00:00:00</th>\n",
       "      <th>2016-11-05 00:00:00</th>\n",
       "      <th>2016-11-06 00:00:00</th>\n",
       "    </tr>\n",
       "  </thead>\n",
       "  <tbody>\n",
       "    <tr>\n",
       "      <th>A</th>\n",
       "      <td>0.613444</td>\n",
       "      <td>0.771170</td>\n",
       "      <td>0.343282</td>\n",
       "      <td>0.256097</td>\n",
       "      <td>0.878900</td>\n",
       "      <td>0.679155</td>\n",
       "    </tr>\n",
       "    <tr>\n",
       "      <th>B</th>\n",
       "      <td>0.155859</td>\n",
       "      <td>0.947750</td>\n",
       "      <td>0.381394</td>\n",
       "      <td>0.502232</td>\n",
       "      <td>0.945557</td>\n",
       "      <td>0.249103</td>\n",
       "    </tr>\n",
       "    <tr>\n",
       "      <th>C</th>\n",
       "      <td>0.002328</td>\n",
       "      <td>0.391916</td>\n",
       "      <td>0.475559</td>\n",
       "      <td>0.127405</td>\n",
       "      <td>0.272598</td>\n",
       "      <td>0.568238</td>\n",
       "    </tr>\n",
       "    <tr>\n",
       "      <th>D</th>\n",
       "      <td>0.719616</td>\n",
       "      <td>0.697420</td>\n",
       "      <td>0.513198</td>\n",
       "      <td>0.445335</td>\n",
       "      <td>0.954426</td>\n",
       "      <td>0.252042</td>\n",
       "    </tr>\n",
       "  </tbody>\n",
       "</table>\n",
       "</div>"
      ],
      "text/plain": [
       "   2016-11-01  2016-11-02  2016-11-03  2016-11-04  2016-11-05  2016-11-06\n",
       "A    0.613444    0.771170    0.343282    0.256097    0.878900    0.679155\n",
       "B    0.155859    0.947750    0.381394    0.502232    0.945557    0.249103\n",
       "C    0.002328    0.391916    0.475559    0.127405    0.272598    0.568238\n",
       "D    0.719616    0.697420    0.513198    0.445335    0.954426    0.252042"
      ]
     },
     "execution_count": 26,
     "metadata": {},
     "output_type": "execute_result"
    }
   ],
   "source": [
    "data1.T"
   ]
  },
  {
   "cell_type": "code",
   "execution_count": 27,
   "metadata": {
    "collapsed": false
   },
   "outputs": [
    {
     "data": {
      "text/plain": [
       "(6, 4)"
      ]
     },
     "execution_count": 27,
     "metadata": {},
     "output_type": "execute_result"
    }
   ],
   "source": [
    "data1.shape"
   ]
  },
  {
   "cell_type": "code",
   "execution_count": 28,
   "metadata": {
    "collapsed": false
   },
   "outputs": [
    {
     "data": {
      "text/html": [
       "<div>\n",
       "<table border=\"1\" class=\"dataframe\">\n",
       "  <thead>\n",
       "    <tr style=\"text-align: right;\">\n",
       "      <th></th>\n",
       "      <th>A</th>\n",
       "      <th>B</th>\n",
       "      <th>C</th>\n",
       "      <th>D</th>\n",
       "    </tr>\n",
       "  </thead>\n",
       "  <tbody>\n",
       "    <tr>\n",
       "      <th>2016-11-01</th>\n",
       "      <td>0.613444</td>\n",
       "      <td>0.155859</td>\n",
       "      <td>0.002328</td>\n",
       "      <td>0.719616</td>\n",
       "    </tr>\n",
       "    <tr>\n",
       "      <th>2016-11-02</th>\n",
       "      <td>0.771170</td>\n",
       "      <td>0.947750</td>\n",
       "      <td>0.391916</td>\n",
       "      <td>0.697420</td>\n",
       "    </tr>\n",
       "    <tr>\n",
       "      <th>2016-11-03</th>\n",
       "      <td>0.343282</td>\n",
       "      <td>0.381394</td>\n",
       "      <td>0.475559</td>\n",
       "      <td>0.513198</td>\n",
       "    </tr>\n",
       "    <tr>\n",
       "      <th>2016-11-04</th>\n",
       "      <td>0.256097</td>\n",
       "      <td>0.502232</td>\n",
       "      <td>0.127405</td>\n",
       "      <td>0.445335</td>\n",
       "    </tr>\n",
       "    <tr>\n",
       "      <th>2016-11-05</th>\n",
       "      <td>0.878900</td>\n",
       "      <td>0.945557</td>\n",
       "      <td>0.272598</td>\n",
       "      <td>0.954426</td>\n",
       "    </tr>\n",
       "    <tr>\n",
       "      <th>2016-11-06</th>\n",
       "      <td>0.679155</td>\n",
       "      <td>0.249103</td>\n",
       "      <td>0.568238</td>\n",
       "      <td>0.252042</td>\n",
       "    </tr>\n",
       "  </tbody>\n",
       "</table>\n",
       "</div>"
      ],
      "text/plain": [
       "                   A         B         C         D\n",
       "2016-11-01  0.613444  0.155859  0.002328  0.719616\n",
       "2016-11-02  0.771170  0.947750  0.391916  0.697420\n",
       "2016-11-03  0.343282  0.381394  0.475559  0.513198\n",
       "2016-11-04  0.256097  0.502232  0.127405  0.445335\n",
       "2016-11-05  0.878900  0.945557  0.272598  0.954426\n",
       "2016-11-06  0.679155  0.249103  0.568238  0.252042"
      ]
     },
     "execution_count": 28,
     "metadata": {},
     "output_type": "execute_result"
    }
   ],
   "source": [
    "data1.sort_index(axis=1)"
   ]
  },
  {
   "cell_type": "code",
   "execution_count": 31,
   "metadata": {
    "collapsed": false
   },
   "outputs": [
    {
     "data": {
      "text/html": [
       "<div>\n",
       "<table border=\"1\" class=\"dataframe\">\n",
       "  <thead>\n",
       "    <tr style=\"text-align: right;\">\n",
       "      <th></th>\n",
       "      <th>D</th>\n",
       "      <th>C</th>\n",
       "      <th>B</th>\n",
       "      <th>A</th>\n",
       "    </tr>\n",
       "  </thead>\n",
       "  <tbody>\n",
       "    <tr>\n",
       "      <th>2016-11-01</th>\n",
       "      <td>0.719616</td>\n",
       "      <td>0.002328</td>\n",
       "      <td>0.155859</td>\n",
       "      <td>0.613444</td>\n",
       "    </tr>\n",
       "    <tr>\n",
       "      <th>2016-11-02</th>\n",
       "      <td>0.697420</td>\n",
       "      <td>0.391916</td>\n",
       "      <td>0.947750</td>\n",
       "      <td>0.771170</td>\n",
       "    </tr>\n",
       "    <tr>\n",
       "      <th>2016-11-03</th>\n",
       "      <td>0.513198</td>\n",
       "      <td>0.475559</td>\n",
       "      <td>0.381394</td>\n",
       "      <td>0.343282</td>\n",
       "    </tr>\n",
       "    <tr>\n",
       "      <th>2016-11-04</th>\n",
       "      <td>0.445335</td>\n",
       "      <td>0.127405</td>\n",
       "      <td>0.502232</td>\n",
       "      <td>0.256097</td>\n",
       "    </tr>\n",
       "    <tr>\n",
       "      <th>2016-11-05</th>\n",
       "      <td>0.954426</td>\n",
       "      <td>0.272598</td>\n",
       "      <td>0.945557</td>\n",
       "      <td>0.878900</td>\n",
       "    </tr>\n",
       "    <tr>\n",
       "      <th>2016-11-06</th>\n",
       "      <td>0.252042</td>\n",
       "      <td>0.568238</td>\n",
       "      <td>0.249103</td>\n",
       "      <td>0.679155</td>\n",
       "    </tr>\n",
       "  </tbody>\n",
       "</table>\n",
       "</div>"
      ],
      "text/plain": [
       "                   D         C         B         A\n",
       "2016-11-01  0.719616  0.002328  0.155859  0.613444\n",
       "2016-11-02  0.697420  0.391916  0.947750  0.771170\n",
       "2016-11-03  0.513198  0.475559  0.381394  0.343282\n",
       "2016-11-04  0.445335  0.127405  0.502232  0.256097\n",
       "2016-11-05  0.954426  0.272598  0.945557  0.878900\n",
       "2016-11-06  0.252042  0.568238  0.249103  0.679155"
      ]
     },
     "execution_count": 31,
     "metadata": {},
     "output_type": "execute_result"
    }
   ],
   "source": [
    "data1.sort_index(axis=1,ascending=False)"
   ]
  },
  {
   "cell_type": "code",
   "execution_count": 32,
   "metadata": {
    "collapsed": false
   },
   "outputs": [
    {
     "data": {
      "text/plain": [
       "2016-11-01    0.613444\n",
       "2016-11-02    0.771170\n",
       "2016-11-03    0.343282\n",
       "2016-11-04    0.256097\n",
       "2016-11-05    0.878900\n",
       "2016-11-06    0.679155\n",
       "Freq: D, Name: A, dtype: float64"
      ]
     },
     "execution_count": 32,
     "metadata": {},
     "output_type": "execute_result"
    }
   ],
   "source": [
    "data1['A']"
   ]
  },
  {
   "cell_type": "code",
   "execution_count": 34,
   "metadata": {
    "collapsed": false
   },
   "outputs": [
    {
     "data": {
      "text/html": [
       "<div>\n",
       "<table border=\"1\" class=\"dataframe\">\n",
       "  <thead>\n",
       "    <tr style=\"text-align: right;\">\n",
       "      <th></th>\n",
       "      <th>A</th>\n",
       "      <th>B</th>\n",
       "      <th>C</th>\n",
       "      <th>D</th>\n",
       "    </tr>\n",
       "  </thead>\n",
       "  <tbody>\n",
       "    <tr>\n",
       "      <th>2016-11-03</th>\n",
       "      <td>0.343282</td>\n",
       "      <td>0.381394</td>\n",
       "      <td>0.475559</td>\n",
       "      <td>0.513198</td>\n",
       "    </tr>\n",
       "    <tr>\n",
       "      <th>2016-11-04</th>\n",
       "      <td>0.256097</td>\n",
       "      <td>0.502232</td>\n",
       "      <td>0.127405</td>\n",
       "      <td>0.445335</td>\n",
       "    </tr>\n",
       "  </tbody>\n",
       "</table>\n",
       "</div>"
      ],
      "text/plain": [
       "                   A         B         C         D\n",
       "2016-11-03  0.343282  0.381394  0.475559  0.513198\n",
       "2016-11-04  0.256097  0.502232  0.127405  0.445335"
      ]
     },
     "execution_count": 34,
     "metadata": {},
     "output_type": "execute_result"
    }
   ],
   "source": [
    "data1[2:4]"
   ]
  },
  {
   "cell_type": "code",
   "execution_count": 36,
   "metadata": {
    "collapsed": false
   },
   "outputs": [
    {
     "data": {
      "text/html": [
       "<div>\n",
       "<table border=\"1\" class=\"dataframe\">\n",
       "  <thead>\n",
       "    <tr style=\"text-align: right;\">\n",
       "      <th></th>\n",
       "      <th>A</th>\n",
       "      <th>B</th>\n",
       "      <th>C</th>\n",
       "      <th>D</th>\n",
       "    </tr>\n",
       "  </thead>\n",
       "  <tbody>\n",
       "    <tr>\n",
       "      <th>2016-11-02</th>\n",
       "      <td>0.771170</td>\n",
       "      <td>0.947750</td>\n",
       "      <td>0.391916</td>\n",
       "      <td>0.697420</td>\n",
       "    </tr>\n",
       "    <tr>\n",
       "      <th>2016-11-03</th>\n",
       "      <td>0.343282</td>\n",
       "      <td>0.381394</td>\n",
       "      <td>0.475559</td>\n",
       "      <td>0.513198</td>\n",
       "    </tr>\n",
       "    <tr>\n",
       "      <th>2016-11-04</th>\n",
       "      <td>0.256097</td>\n",
       "      <td>0.502232</td>\n",
       "      <td>0.127405</td>\n",
       "      <td>0.445335</td>\n",
       "    </tr>\n",
       "    <tr>\n",
       "      <th>2016-11-05</th>\n",
       "      <td>0.878900</td>\n",
       "      <td>0.945557</td>\n",
       "      <td>0.272598</td>\n",
       "      <td>0.954426</td>\n",
       "    </tr>\n",
       "  </tbody>\n",
       "</table>\n",
       "</div>"
      ],
      "text/plain": [
       "                   A         B         C         D\n",
       "2016-11-02  0.771170  0.947750  0.391916  0.697420\n",
       "2016-11-03  0.343282  0.381394  0.475559  0.513198\n",
       "2016-11-04  0.256097  0.502232  0.127405  0.445335\n",
       "2016-11-05  0.878900  0.945557  0.272598  0.954426"
      ]
     },
     "execution_count": 36,
     "metadata": {},
     "output_type": "execute_result"
    }
   ],
   "source": [
    "data1.loc['20161102':'20161105']"
   ]
  },
  {
   "cell_type": "code",
   "execution_count": 37,
   "metadata": {
    "collapsed": false
   },
   "outputs": [
    {
     "data": {
      "text/html": [
       "<div>\n",
       "<table border=\"1\" class=\"dataframe\">\n",
       "  <thead>\n",
       "    <tr style=\"text-align: right;\">\n",
       "      <th></th>\n",
       "      <th>A</th>\n",
       "      <th>B</th>\n",
       "      <th>C</th>\n",
       "      <th>D</th>\n",
       "    </tr>\n",
       "  </thead>\n",
       "  <tbody>\n",
       "    <tr>\n",
       "      <th>2016-11-03</th>\n",
       "      <td>0.343282</td>\n",
       "      <td>0.381394</td>\n",
       "      <td>0.475559</td>\n",
       "      <td>0.513198</td>\n",
       "    </tr>\n",
       "    <tr>\n",
       "      <th>2016-11-04</th>\n",
       "      <td>0.256097</td>\n",
       "      <td>0.502232</td>\n",
       "      <td>0.127405</td>\n",
       "      <td>0.445335</td>\n",
       "    </tr>\n",
       "  </tbody>\n",
       "</table>\n",
       "</div>"
      ],
      "text/plain": [
       "                   A         B         C         D\n",
       "2016-11-03  0.343282  0.381394  0.475559  0.513198\n",
       "2016-11-04  0.256097  0.502232  0.127405  0.445335"
      ]
     },
     "execution_count": 37,
     "metadata": {},
     "output_type": "execute_result"
    }
   ],
   "source": [
    "data1.iloc[2:4]"
   ]
  },
  {
   "cell_type": "code",
   "execution_count": 40,
   "metadata": {
    "collapsed": false
   },
   "outputs": [
    {
     "data": {
      "text/html": [
       "<div>\n",
       "<table border=\"1\" class=\"dataframe\">\n",
       "  <thead>\n",
       "    <tr style=\"text-align: right;\">\n",
       "      <th></th>\n",
       "      <th>B</th>\n",
       "      <th>C</th>\n",
       "    </tr>\n",
       "  </thead>\n",
       "  <tbody>\n",
       "    <tr>\n",
       "      <th>2016-11-01</th>\n",
       "      <td>0.155859</td>\n",
       "      <td>0.002328</td>\n",
       "    </tr>\n",
       "    <tr>\n",
       "      <th>2016-11-02</th>\n",
       "      <td>0.947750</td>\n",
       "      <td>0.391916</td>\n",
       "    </tr>\n",
       "    <tr>\n",
       "      <th>2016-11-03</th>\n",
       "      <td>0.381394</td>\n",
       "      <td>0.475559</td>\n",
       "    </tr>\n",
       "    <tr>\n",
       "      <th>2016-11-04</th>\n",
       "      <td>0.502232</td>\n",
       "      <td>0.127405</td>\n",
       "    </tr>\n",
       "    <tr>\n",
       "      <th>2016-11-05</th>\n",
       "      <td>0.945557</td>\n",
       "      <td>0.272598</td>\n",
       "    </tr>\n",
       "    <tr>\n",
       "      <th>2016-11-06</th>\n",
       "      <td>0.249103</td>\n",
       "      <td>0.568238</td>\n",
       "    </tr>\n",
       "  </tbody>\n",
       "</table>\n",
       "</div>"
      ],
      "text/plain": [
       "                   B         C\n",
       "2016-11-01  0.155859  0.002328\n",
       "2016-11-02  0.947750  0.391916\n",
       "2016-11-03  0.381394  0.475559\n",
       "2016-11-04  0.502232  0.127405\n",
       "2016-11-05  0.945557  0.272598\n",
       "2016-11-06  0.249103  0.568238"
      ]
     },
     "execution_count": 40,
     "metadata": {},
     "output_type": "execute_result"
    }
   ],
   "source": [
    "data1.loc[:,['B','C']]"
   ]
  },
  {
   "cell_type": "code",
   "execution_count": 42,
   "metadata": {
    "collapsed": false
   },
   "outputs": [
    {
     "data": {
      "text/html": [
       "<div>\n",
       "<table border=\"1\" class=\"dataframe\">\n",
       "  <thead>\n",
       "    <tr style=\"text-align: right;\">\n",
       "      <th></th>\n",
       "      <th>B</th>\n",
       "      <th>C</th>\n",
       "    </tr>\n",
       "  </thead>\n",
       "  <tbody>\n",
       "    <tr>\n",
       "      <th>2016-11-02</th>\n",
       "      <td>0.947750</td>\n",
       "      <td>0.391916</td>\n",
       "    </tr>\n",
       "    <tr>\n",
       "      <th>2016-11-03</th>\n",
       "      <td>0.381394</td>\n",
       "      <td>0.475559</td>\n",
       "    </tr>\n",
       "  </tbody>\n",
       "</table>\n",
       "</div>"
      ],
      "text/plain": [
       "                   B         C\n",
       "2016-11-02  0.947750  0.391916\n",
       "2016-11-03  0.381394  0.475559"
      ]
     },
     "execution_count": 42,
     "metadata": {},
     "output_type": "execute_result"
    }
   ],
   "source": [
    "data1.loc['20161102':'20161103',['B','C']]"
   ]
  },
  {
   "cell_type": "code",
   "execution_count": 43,
   "metadata": {
    "collapsed": false
   },
   "outputs": [
    {
     "data": {
      "text/plain": [
       "0.9477502815821176"
      ]
     },
     "execution_count": 43,
     "metadata": {},
     "output_type": "execute_result"
    }
   ],
   "source": [
    "data1.iloc[1,1]"
   ]
  },
  {
   "cell_type": "code",
   "execution_count": 44,
   "metadata": {
    "collapsed": false
   },
   "outputs": [
    {
     "data": {
      "text/plain": [
       "0.47555933174230847"
      ]
     },
     "execution_count": 44,
     "metadata": {},
     "output_type": "execute_result"
    }
   ],
   "source": [
    "data1.iat[2,2]"
   ]
  },
  {
   "cell_type": "code",
   "execution_count": 45,
   "metadata": {
    "collapsed": false
   },
   "outputs": [
    {
     "name": "stdout",
     "output_type": "stream",
     "text": [
      "1000 loops, best of 3: 479 µs per loop\n"
     ]
    }
   ],
   "source": [
    "%timeit data1.iloc[1,1]"
   ]
  },
  {
   "cell_type": "code",
   "execution_count": 46,
   "metadata": {
    "collapsed": false
   },
   "outputs": [
    {
     "name": "stdout",
     "output_type": "stream",
     "text": [
      "The slowest run took 20.86 times longer than the fastest. This could mean that an intermediate result is being cached.\n",
      "10000 loops, best of 3: 25.6 µs per loop\n"
     ]
    }
   ],
   "source": [
    "%timeit data1.iat[1,1]"
   ]
  },
  {
   "cell_type": "code",
   "execution_count": 47,
   "metadata": {
    "collapsed": false
   },
   "outputs": [
    {
     "data": {
      "text/html": [
       "<div>\n",
       "<table border=\"1\" class=\"dataframe\">\n",
       "  <thead>\n",
       "    <tr style=\"text-align: right;\">\n",
       "      <th></th>\n",
       "      <th>A</th>\n",
       "      <th>B</th>\n",
       "      <th>C</th>\n",
       "      <th>D</th>\n",
       "    </tr>\n",
       "  </thead>\n",
       "  <tbody>\n",
       "    <tr>\n",
       "      <th>2016-11-01</th>\n",
       "      <td>0.613444</td>\n",
       "      <td>0.155859</td>\n",
       "      <td>0.002328</td>\n",
       "      <td>0.719616</td>\n",
       "    </tr>\n",
       "    <tr>\n",
       "      <th>2016-11-02</th>\n",
       "      <td>0.771170</td>\n",
       "      <td>0.947750</td>\n",
       "      <td>0.391916</td>\n",
       "      <td>0.697420</td>\n",
       "    </tr>\n",
       "    <tr>\n",
       "      <th>2016-11-03</th>\n",
       "      <td>0.343282</td>\n",
       "      <td>0.381394</td>\n",
       "      <td>0.475559</td>\n",
       "      <td>0.513198</td>\n",
       "    </tr>\n",
       "    <tr>\n",
       "      <th>2016-11-04</th>\n",
       "      <td>0.256097</td>\n",
       "      <td>0.502232</td>\n",
       "      <td>0.127405</td>\n",
       "      <td>0.445335</td>\n",
       "    </tr>\n",
       "    <tr>\n",
       "      <th>2016-11-05</th>\n",
       "      <td>0.878900</td>\n",
       "      <td>0.945557</td>\n",
       "      <td>0.272598</td>\n",
       "      <td>0.954426</td>\n",
       "    </tr>\n",
       "    <tr>\n",
       "      <th>2016-11-06</th>\n",
       "      <td>0.679155</td>\n",
       "      <td>0.249103</td>\n",
       "      <td>0.568238</td>\n",
       "      <td>0.252042</td>\n",
       "    </tr>\n",
       "  </tbody>\n",
       "</table>\n",
       "</div>"
      ],
      "text/plain": [
       "                   A         B         C         D\n",
       "2016-11-01  0.613444  0.155859  0.002328  0.719616\n",
       "2016-11-02  0.771170  0.947750  0.391916  0.697420\n",
       "2016-11-03  0.343282  0.381394  0.475559  0.513198\n",
       "2016-11-04  0.256097  0.502232  0.127405  0.445335\n",
       "2016-11-05  0.878900  0.945557  0.272598  0.954426\n",
       "2016-11-06  0.679155  0.249103  0.568238  0.252042"
      ]
     },
     "execution_count": 47,
     "metadata": {},
     "output_type": "execute_result"
    }
   ],
   "source": [
    "data1[data1>0]"
   ]
  },
  {
   "cell_type": "code",
   "execution_count": 48,
   "metadata": {
    "collapsed": false
   },
   "outputs": [
    {
     "data": {
      "text/html": [
       "<div>\n",
       "<table border=\"1\" class=\"dataframe\">\n",
       "  <thead>\n",
       "    <tr style=\"text-align: right;\">\n",
       "      <th></th>\n",
       "      <th>A</th>\n",
       "      <th>B</th>\n",
       "      <th>C</th>\n",
       "      <th>D</th>\n",
       "    </tr>\n",
       "  </thead>\n",
       "  <tbody>\n",
       "    <tr>\n",
       "      <th>2016-11-01</th>\n",
       "      <td>0.613444</td>\n",
       "      <td>0.155859</td>\n",
       "      <td>0.002328</td>\n",
       "      <td>0.719616</td>\n",
       "    </tr>\n",
       "    <tr>\n",
       "      <th>2016-11-02</th>\n",
       "      <td>0.771170</td>\n",
       "      <td>0.947750</td>\n",
       "      <td>0.391916</td>\n",
       "      <td>0.697420</td>\n",
       "    </tr>\n",
       "    <tr>\n",
       "      <th>2016-11-03</th>\n",
       "      <td>0.343282</td>\n",
       "      <td>0.381394</td>\n",
       "      <td>0.475559</td>\n",
       "      <td>0.513198</td>\n",
       "    </tr>\n",
       "    <tr>\n",
       "      <th>2016-11-04</th>\n",
       "      <td>0.256097</td>\n",
       "      <td>0.502232</td>\n",
       "      <td>0.127405</td>\n",
       "      <td>0.445335</td>\n",
       "    </tr>\n",
       "    <tr>\n",
       "      <th>2016-11-05</th>\n",
       "      <td>0.878900</td>\n",
       "      <td>0.945557</td>\n",
       "      <td>0.272598</td>\n",
       "      <td>0.954426</td>\n",
       "    </tr>\n",
       "    <tr>\n",
       "      <th>2016-11-06</th>\n",
       "      <td>0.679155</td>\n",
       "      <td>0.249103</td>\n",
       "      <td>0.568238</td>\n",
       "      <td>0.252042</td>\n",
       "    </tr>\n",
       "  </tbody>\n",
       "</table>\n",
       "</div>"
      ],
      "text/plain": [
       "                   A         B         C         D\n",
       "2016-11-01  0.613444  0.155859  0.002328  0.719616\n",
       "2016-11-02  0.771170  0.947750  0.391916  0.697420\n",
       "2016-11-03  0.343282  0.381394  0.475559  0.513198\n",
       "2016-11-04  0.256097  0.502232  0.127405  0.445335\n",
       "2016-11-05  0.878900  0.945557  0.272598  0.954426\n",
       "2016-11-06  0.679155  0.249103  0.568238  0.252042"
      ]
     },
     "execution_count": 48,
     "metadata": {},
     "output_type": "execute_result"
    }
   ],
   "source": [
    "data1"
   ]
  },
  {
   "cell_type": "code",
   "execution_count": 49,
   "metadata": {
    "collapsed": true
   },
   "outputs": [],
   "source": [
    "data1.iat[0,0]=100"
   ]
  },
  {
   "cell_type": "code",
   "execution_count": 50,
   "metadata": {
    "collapsed": false
   },
   "outputs": [
    {
     "data": {
      "text/html": [
       "<div>\n",
       "<table border=\"1\" class=\"dataframe\">\n",
       "  <thead>\n",
       "    <tr style=\"text-align: right;\">\n",
       "      <th></th>\n",
       "      <th>A</th>\n",
       "      <th>B</th>\n",
       "      <th>C</th>\n",
       "      <th>D</th>\n",
       "    </tr>\n",
       "  </thead>\n",
       "  <tbody>\n",
       "    <tr>\n",
       "      <th>2016-11-01</th>\n",
       "      <td>100.000000</td>\n",
       "      <td>0.155859</td>\n",
       "      <td>0.002328</td>\n",
       "      <td>0.719616</td>\n",
       "    </tr>\n",
       "    <tr>\n",
       "      <th>2016-11-02</th>\n",
       "      <td>0.771170</td>\n",
       "      <td>0.947750</td>\n",
       "      <td>0.391916</td>\n",
       "      <td>0.697420</td>\n",
       "    </tr>\n",
       "    <tr>\n",
       "      <th>2016-11-03</th>\n",
       "      <td>0.343282</td>\n",
       "      <td>0.381394</td>\n",
       "      <td>0.475559</td>\n",
       "      <td>0.513198</td>\n",
       "    </tr>\n",
       "    <tr>\n",
       "      <th>2016-11-04</th>\n",
       "      <td>0.256097</td>\n",
       "      <td>0.502232</td>\n",
       "      <td>0.127405</td>\n",
       "      <td>0.445335</td>\n",
       "    </tr>\n",
       "    <tr>\n",
       "      <th>2016-11-05</th>\n",
       "      <td>0.878900</td>\n",
       "      <td>0.945557</td>\n",
       "      <td>0.272598</td>\n",
       "      <td>0.954426</td>\n",
       "    </tr>\n",
       "    <tr>\n",
       "      <th>2016-11-06</th>\n",
       "      <td>0.679155</td>\n",
       "      <td>0.249103</td>\n",
       "      <td>0.568238</td>\n",
       "      <td>0.252042</td>\n",
       "    </tr>\n",
       "  </tbody>\n",
       "</table>\n",
       "</div>"
      ],
      "text/plain": [
       "                     A         B         C         D\n",
       "2016-11-01  100.000000  0.155859  0.002328  0.719616\n",
       "2016-11-02    0.771170  0.947750  0.391916  0.697420\n",
       "2016-11-03    0.343282  0.381394  0.475559  0.513198\n",
       "2016-11-04    0.256097  0.502232  0.127405  0.445335\n",
       "2016-11-05    0.878900  0.945557  0.272598  0.954426\n",
       "2016-11-06    0.679155  0.249103  0.568238  0.252042"
      ]
     },
     "execution_count": 50,
     "metadata": {},
     "output_type": "execute_result"
    }
   ],
   "source": [
    "data1"
   ]
  },
  {
   "cell_type": "code",
   "execution_count": 51,
   "metadata": {
    "collapsed": true
   },
   "outputs": [],
   "source": [
    "data1.A = 100"
   ]
  },
  {
   "cell_type": "code",
   "execution_count": 52,
   "metadata": {
    "collapsed": false
   },
   "outputs": [
    {
     "data": {
      "text/html": [
       "<div>\n",
       "<table border=\"1\" class=\"dataframe\">\n",
       "  <thead>\n",
       "    <tr style=\"text-align: right;\">\n",
       "      <th></th>\n",
       "      <th>A</th>\n",
       "      <th>B</th>\n",
       "      <th>C</th>\n",
       "      <th>D</th>\n",
       "    </tr>\n",
       "  </thead>\n",
       "  <tbody>\n",
       "    <tr>\n",
       "      <th>2016-11-01</th>\n",
       "      <td>100</td>\n",
       "      <td>0.155859</td>\n",
       "      <td>0.002328</td>\n",
       "      <td>0.719616</td>\n",
       "    </tr>\n",
       "    <tr>\n",
       "      <th>2016-11-02</th>\n",
       "      <td>100</td>\n",
       "      <td>0.947750</td>\n",
       "      <td>0.391916</td>\n",
       "      <td>0.697420</td>\n",
       "    </tr>\n",
       "    <tr>\n",
       "      <th>2016-11-03</th>\n",
       "      <td>100</td>\n",
       "      <td>0.381394</td>\n",
       "      <td>0.475559</td>\n",
       "      <td>0.513198</td>\n",
       "    </tr>\n",
       "    <tr>\n",
       "      <th>2016-11-04</th>\n",
       "      <td>100</td>\n",
       "      <td>0.502232</td>\n",
       "      <td>0.127405</td>\n",
       "      <td>0.445335</td>\n",
       "    </tr>\n",
       "    <tr>\n",
       "      <th>2016-11-05</th>\n",
       "      <td>100</td>\n",
       "      <td>0.945557</td>\n",
       "      <td>0.272598</td>\n",
       "      <td>0.954426</td>\n",
       "    </tr>\n",
       "    <tr>\n",
       "      <th>2016-11-06</th>\n",
       "      <td>100</td>\n",
       "      <td>0.249103</td>\n",
       "      <td>0.568238</td>\n",
       "      <td>0.252042</td>\n",
       "    </tr>\n",
       "  </tbody>\n",
       "</table>\n",
       "</div>"
      ],
      "text/plain": [
       "              A         B         C         D\n",
       "2016-11-01  100  0.155859  0.002328  0.719616\n",
       "2016-11-02  100  0.947750  0.391916  0.697420\n",
       "2016-11-03  100  0.381394  0.475559  0.513198\n",
       "2016-11-04  100  0.502232  0.127405  0.445335\n",
       "2016-11-05  100  0.945557  0.272598  0.954426\n",
       "2016-11-06  100  0.249103  0.568238  0.252042"
      ]
     },
     "execution_count": 52,
     "metadata": {},
     "output_type": "execute_result"
    }
   ],
   "source": [
    "data1"
   ]
  },
  {
   "cell_type": "code",
   "execution_count": null,
   "metadata": {
    "collapsed": true
   },
   "outputs": [],
   "source": []
  }
 ],
 "metadata": {
  "kernelspec": {
   "display_name": "Python 3",
   "language": "python",
   "name": "python3"
  },
  "language_info": {
   "codemirror_mode": {
    "name": "ipython",
    "version": 3
   },
   "file_extension": ".py",
   "mimetype": "text/x-python",
   "name": "python",
   "nbconvert_exporter": "python",
   "pygments_lexer": "ipython3",
   "version": "3.5.1"
  }
 },
 "nbformat": 4,
 "nbformat_minor": 1
}
