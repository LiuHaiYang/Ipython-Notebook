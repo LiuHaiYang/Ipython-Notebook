{
 "cells": [
  {
   "cell_type": "code",
   "execution_count": 1,
   "metadata": {
    "collapsed": true
   },
   "outputs": [],
   "source": [
    "%matplotlib inline\n",
    "import pandas as pd \n",
    "import numpy as np\n",
    "import matplotlib.pyplot as plt"
   ]
  },
  {
   "cell_type": "code",
   "execution_count": 3,
   "metadata": {
    "collapsed": false
   },
   "outputs": [],
   "source": [
    "dates = pd.date_range('20161101',periods=6)\n",
    "\n"
   ]
  },
  {
   "cell_type": "code",
   "execution_count": 7,
   "metadata": {
    "collapsed": false
   },
   "outputs": [],
   "source": [
    "df = pd.DataFrame(np.random.randn(6,4), index=dates,columns=list('ABCD'))"
   ]
  },
  {
   "cell_type": "code",
   "execution_count": 8,
   "metadata": {
    "collapsed": false
   },
   "outputs": [
    {
     "data": {
      "text/html": [
       "<div>\n",
       "<table border=\"1\" class=\"dataframe\">\n",
       "  <thead>\n",
       "    <tr style=\"text-align: right;\">\n",
       "      <th></th>\n",
       "      <th>A</th>\n",
       "      <th>B</th>\n",
       "      <th>C</th>\n",
       "      <th>D</th>\n",
       "    </tr>\n",
       "  </thead>\n",
       "  <tbody>\n",
       "    <tr>\n",
       "      <th>2016-11-01</th>\n",
       "      <td>-0.437304</td>\n",
       "      <td>1.460429</td>\n",
       "      <td>-0.059167</td>\n",
       "      <td>0.693487</td>\n",
       "    </tr>\n",
       "    <tr>\n",
       "      <th>2016-11-02</th>\n",
       "      <td>-0.547714</td>\n",
       "      <td>0.343704</td>\n",
       "      <td>0.808880</td>\n",
       "      <td>-1.075700</td>\n",
       "    </tr>\n",
       "    <tr>\n",
       "      <th>2016-11-03</th>\n",
       "      <td>0.808230</td>\n",
       "      <td>0.802533</td>\n",
       "      <td>-0.630616</td>\n",
       "      <td>1.466312</td>\n",
       "    </tr>\n",
       "    <tr>\n",
       "      <th>2016-11-04</th>\n",
       "      <td>0.608432</td>\n",
       "      <td>-0.269207</td>\n",
       "      <td>1.421999</td>\n",
       "      <td>0.746666</td>\n",
       "    </tr>\n",
       "    <tr>\n",
       "      <th>2016-11-05</th>\n",
       "      <td>-0.650451</td>\n",
       "      <td>-0.727668</td>\n",
       "      <td>0.505484</td>\n",
       "      <td>1.391516</td>\n",
       "    </tr>\n",
       "    <tr>\n",
       "      <th>2016-11-06</th>\n",
       "      <td>-0.897511</td>\n",
       "      <td>-2.960855</td>\n",
       "      <td>-2.714718</td>\n",
       "      <td>-0.099647</td>\n",
       "    </tr>\n",
       "  </tbody>\n",
       "</table>\n",
       "</div>"
      ],
      "text/plain": [
       "                   A         B         C         D\n",
       "2016-11-01 -0.437304  1.460429 -0.059167  0.693487\n",
       "2016-11-02 -0.547714  0.343704  0.808880 -1.075700\n",
       "2016-11-03  0.808230  0.802533 -0.630616  1.466312\n",
       "2016-11-04  0.608432 -0.269207  1.421999  0.746666\n",
       "2016-11-05 -0.650451 -0.727668  0.505484  1.391516\n",
       "2016-11-06 -0.897511 -2.960855 -2.714718 -0.099647"
      ]
     },
     "execution_count": 8,
     "metadata": {},
     "output_type": "execute_result"
    }
   ],
   "source": [
    "df"
   ]
  },
  {
   "cell_type": "code",
   "execution_count": 11,
   "metadata": {
    "collapsed": false
   },
   "outputs": [],
   "source": [
    "df1 = df.reindex(index=dates[0:4], columns=list(df.columns) + ['E']) "
   ]
  },
  {
   "cell_type": "code",
   "execution_count": 12,
   "metadata": {
    "collapsed": false
   },
   "outputs": [
    {
     "data": {
      "text/html": [
       "<div>\n",
       "<table border=\"1\" class=\"dataframe\">\n",
       "  <thead>\n",
       "    <tr style=\"text-align: right;\">\n",
       "      <th></th>\n",
       "      <th>A</th>\n",
       "      <th>B</th>\n",
       "      <th>C</th>\n",
       "      <th>D</th>\n",
       "      <th>E</th>\n",
       "    </tr>\n",
       "  </thead>\n",
       "  <tbody>\n",
       "    <tr>\n",
       "      <th>2016-11-01</th>\n",
       "      <td>-0.437304</td>\n",
       "      <td>1.460429</td>\n",
       "      <td>-0.059167</td>\n",
       "      <td>0.693487</td>\n",
       "      <td>NaN</td>\n",
       "    </tr>\n",
       "    <tr>\n",
       "      <th>2016-11-02</th>\n",
       "      <td>-0.547714</td>\n",
       "      <td>0.343704</td>\n",
       "      <td>0.808880</td>\n",
       "      <td>-1.075700</td>\n",
       "      <td>NaN</td>\n",
       "    </tr>\n",
       "    <tr>\n",
       "      <th>2016-11-03</th>\n",
       "      <td>0.808230</td>\n",
       "      <td>0.802533</td>\n",
       "      <td>-0.630616</td>\n",
       "      <td>1.466312</td>\n",
       "      <td>NaN</td>\n",
       "    </tr>\n",
       "    <tr>\n",
       "      <th>2016-11-04</th>\n",
       "      <td>0.608432</td>\n",
       "      <td>-0.269207</td>\n",
       "      <td>1.421999</td>\n",
       "      <td>0.746666</td>\n",
       "      <td>NaN</td>\n",
       "    </tr>\n",
       "  </tbody>\n",
       "</table>\n",
       "</div>"
      ],
      "text/plain": [
       "                   A         B         C         D   E\n",
       "2016-11-01 -0.437304  1.460429 -0.059167  0.693487 NaN\n",
       "2016-11-02 -0.547714  0.343704  0.808880 -1.075700 NaN\n",
       "2016-11-03  0.808230  0.802533 -0.630616  1.466312 NaN\n",
       "2016-11-04  0.608432 -0.269207  1.421999  0.746666 NaN"
      ]
     },
     "execution_count": 12,
     "metadata": {},
     "output_type": "execute_result"
    }
   ],
   "source": [
    "df1"
   ]
  },
  {
   "cell_type": "code",
   "execution_count": 13,
   "metadata": {
    "collapsed": true
   },
   "outputs": [],
   "source": [
    "df1.loc[dates[1:3],'E'] = 2"
   ]
  },
  {
   "cell_type": "code",
   "execution_count": 14,
   "metadata": {
    "collapsed": false
   },
   "outputs": [
    {
     "data": {
      "text/html": [
       "<div>\n",
       "<table border=\"1\" class=\"dataframe\">\n",
       "  <thead>\n",
       "    <tr style=\"text-align: right;\">\n",
       "      <th></th>\n",
       "      <th>A</th>\n",
       "      <th>B</th>\n",
       "      <th>C</th>\n",
       "      <th>D</th>\n",
       "      <th>E</th>\n",
       "    </tr>\n",
       "  </thead>\n",
       "  <tbody>\n",
       "    <tr>\n",
       "      <th>2016-11-01</th>\n",
       "      <td>-0.437304</td>\n",
       "      <td>1.460429</td>\n",
       "      <td>-0.059167</td>\n",
       "      <td>0.693487</td>\n",
       "      <td>NaN</td>\n",
       "    </tr>\n",
       "    <tr>\n",
       "      <th>2016-11-02</th>\n",
       "      <td>-0.547714</td>\n",
       "      <td>0.343704</td>\n",
       "      <td>0.808880</td>\n",
       "      <td>-1.075700</td>\n",
       "      <td>2.0</td>\n",
       "    </tr>\n",
       "    <tr>\n",
       "      <th>2016-11-03</th>\n",
       "      <td>0.808230</td>\n",
       "      <td>0.802533</td>\n",
       "      <td>-0.630616</td>\n",
       "      <td>1.466312</td>\n",
       "      <td>2.0</td>\n",
       "    </tr>\n",
       "    <tr>\n",
       "      <th>2016-11-04</th>\n",
       "      <td>0.608432</td>\n",
       "      <td>-0.269207</td>\n",
       "      <td>1.421999</td>\n",
       "      <td>0.746666</td>\n",
       "      <td>NaN</td>\n",
       "    </tr>\n",
       "  </tbody>\n",
       "</table>\n",
       "</div>"
      ],
      "text/plain": [
       "                   A         B         C         D    E\n",
       "2016-11-01 -0.437304  1.460429 -0.059167  0.693487  NaN\n",
       "2016-11-02 -0.547714  0.343704  0.808880 -1.075700  2.0\n",
       "2016-11-03  0.808230  0.802533 -0.630616  1.466312  2.0\n",
       "2016-11-04  0.608432 -0.269207  1.421999  0.746666  NaN"
      ]
     },
     "execution_count": 14,
     "metadata": {},
     "output_type": "execute_result"
    }
   ],
   "source": [
    "df1"
   ]
  },
  {
   "cell_type": "code",
   "execution_count": 15,
   "metadata": {
    "collapsed": false
   },
   "outputs": [
    {
     "data": {
      "text/html": [
       "<div>\n",
       "<table border=\"1\" class=\"dataframe\">\n",
       "  <thead>\n",
       "    <tr style=\"text-align: right;\">\n",
       "      <th></th>\n",
       "      <th>A</th>\n",
       "      <th>B</th>\n",
       "      <th>C</th>\n",
       "      <th>D</th>\n",
       "      <th>E</th>\n",
       "    </tr>\n",
       "  </thead>\n",
       "  <tbody>\n",
       "    <tr>\n",
       "      <th>2016-11-02</th>\n",
       "      <td>-0.547714</td>\n",
       "      <td>0.343704</td>\n",
       "      <td>0.808880</td>\n",
       "      <td>-1.075700</td>\n",
       "      <td>2.0</td>\n",
       "    </tr>\n",
       "    <tr>\n",
       "      <th>2016-11-03</th>\n",
       "      <td>0.808230</td>\n",
       "      <td>0.802533</td>\n",
       "      <td>-0.630616</td>\n",
       "      <td>1.466312</td>\n",
       "      <td>2.0</td>\n",
       "    </tr>\n",
       "  </tbody>\n",
       "</table>\n",
       "</div>"
      ],
      "text/plain": [
       "                   A         B         C         D    E\n",
       "2016-11-02 -0.547714  0.343704  0.808880 -1.075700  2.0\n",
       "2016-11-03  0.808230  0.802533 -0.630616  1.466312  2.0"
      ]
     },
     "execution_count": 15,
     "metadata": {},
     "output_type": "execute_result"
    }
   ],
   "source": [
    "df1.dropna()"
   ]
  },
  {
   "cell_type": "code",
   "execution_count": 16,
   "metadata": {
    "collapsed": false
   },
   "outputs": [
    {
     "data": {
      "text/html": [
       "<div>\n",
       "<table border=\"1\" class=\"dataframe\">\n",
       "  <thead>\n",
       "    <tr style=\"text-align: right;\">\n",
       "      <th></th>\n",
       "      <th>A</th>\n",
       "      <th>B</th>\n",
       "      <th>C</th>\n",
       "      <th>D</th>\n",
       "      <th>E</th>\n",
       "    </tr>\n",
       "  </thead>\n",
       "  <tbody>\n",
       "    <tr>\n",
       "      <th>2016-11-01</th>\n",
       "      <td>-0.437304</td>\n",
       "      <td>1.460429</td>\n",
       "      <td>-0.059167</td>\n",
       "      <td>0.693487</td>\n",
       "      <td>NaN</td>\n",
       "    </tr>\n",
       "    <tr>\n",
       "      <th>2016-11-02</th>\n",
       "      <td>-0.547714</td>\n",
       "      <td>0.343704</td>\n",
       "      <td>0.808880</td>\n",
       "      <td>-1.075700</td>\n",
       "      <td>2.0</td>\n",
       "    </tr>\n",
       "    <tr>\n",
       "      <th>2016-11-03</th>\n",
       "      <td>0.808230</td>\n",
       "      <td>0.802533</td>\n",
       "      <td>-0.630616</td>\n",
       "      <td>1.466312</td>\n",
       "      <td>2.0</td>\n",
       "    </tr>\n",
       "    <tr>\n",
       "      <th>2016-11-04</th>\n",
       "      <td>0.608432</td>\n",
       "      <td>-0.269207</td>\n",
       "      <td>1.421999</td>\n",
       "      <td>0.746666</td>\n",
       "      <td>NaN</td>\n",
       "    </tr>\n",
       "  </tbody>\n",
       "</table>\n",
       "</div>"
      ],
      "text/plain": [
       "                   A         B         C         D    E\n",
       "2016-11-01 -0.437304  1.460429 -0.059167  0.693487  NaN\n",
       "2016-11-02 -0.547714  0.343704  0.808880 -1.075700  2.0\n",
       "2016-11-03  0.808230  0.802533 -0.630616  1.466312  2.0\n",
       "2016-11-04  0.608432 -0.269207  1.421999  0.746666  NaN"
      ]
     },
     "execution_count": 16,
     "metadata": {},
     "output_type": "execute_result"
    }
   ],
   "source": [
    "df1"
   ]
  },
  {
   "cell_type": "code",
   "execution_count": 17,
   "metadata": {
    "collapsed": false
   },
   "outputs": [
    {
     "data": {
      "text/html": [
       "<div>\n",
       "<table border=\"1\" class=\"dataframe\">\n",
       "  <thead>\n",
       "    <tr style=\"text-align: right;\">\n",
       "      <th></th>\n",
       "      <th>A</th>\n",
       "      <th>B</th>\n",
       "      <th>C</th>\n",
       "      <th>D</th>\n",
       "      <th>E</th>\n",
       "    </tr>\n",
       "  </thead>\n",
       "  <tbody>\n",
       "    <tr>\n",
       "      <th>2016-11-01</th>\n",
       "      <td>-0.437304</td>\n",
       "      <td>1.460429</td>\n",
       "      <td>-0.059167</td>\n",
       "      <td>0.693487</td>\n",
       "      <td>0.0</td>\n",
       "    </tr>\n",
       "    <tr>\n",
       "      <th>2016-11-02</th>\n",
       "      <td>-0.547714</td>\n",
       "      <td>0.343704</td>\n",
       "      <td>0.808880</td>\n",
       "      <td>-1.075700</td>\n",
       "      <td>2.0</td>\n",
       "    </tr>\n",
       "    <tr>\n",
       "      <th>2016-11-03</th>\n",
       "      <td>0.808230</td>\n",
       "      <td>0.802533</td>\n",
       "      <td>-0.630616</td>\n",
       "      <td>1.466312</td>\n",
       "      <td>2.0</td>\n",
       "    </tr>\n",
       "    <tr>\n",
       "      <th>2016-11-04</th>\n",
       "      <td>0.608432</td>\n",
       "      <td>-0.269207</td>\n",
       "      <td>1.421999</td>\n",
       "      <td>0.746666</td>\n",
       "      <td>0.0</td>\n",
       "    </tr>\n",
       "  </tbody>\n",
       "</table>\n",
       "</div>"
      ],
      "text/plain": [
       "                   A         B         C         D    E\n",
       "2016-11-01 -0.437304  1.460429 -0.059167  0.693487  0.0\n",
       "2016-11-02 -0.547714  0.343704  0.808880 -1.075700  2.0\n",
       "2016-11-03  0.808230  0.802533 -0.630616  1.466312  2.0\n",
       "2016-11-04  0.608432 -0.269207  1.421999  0.746666  0.0"
      ]
     },
     "execution_count": 17,
     "metadata": {},
     "output_type": "execute_result"
    }
   ],
   "source": [
    "df1.fillna(value=0)"
   ]
  },
  {
   "cell_type": "code",
   "execution_count": 19,
   "metadata": {
    "collapsed": false
   },
   "outputs": [
    {
     "data": {
      "text/plain": [
       "True"
      ]
     },
     "execution_count": 19,
     "metadata": {},
     "output_type": "execute_result"
    }
   ],
   "source": [
    "pd.isnull(df1).any().any()"
   ]
  },
  {
   "cell_type": "code",
   "execution_count": 20,
   "metadata": {
    "collapsed": false
   },
   "outputs": [
    {
     "data": {
      "text/plain": [
       "A    0.107911\n",
       "B    0.584365\n",
       "C    0.385274\n",
       "D    0.457691\n",
       "E    2.000000\n",
       "dtype: float64"
      ]
     },
     "execution_count": 20,
     "metadata": {},
     "output_type": "execute_result"
    }
   ],
   "source": [
    "df1.mean()"
   ]
  },
  {
   "cell_type": "code",
   "execution_count": 21,
   "metadata": {
    "collapsed": false
   },
   "outputs": [
    {
     "data": {
      "text/plain": [
       "2016-11-01    0.414361\n",
       "2016-11-02    0.305834\n",
       "2016-11-03    0.889292\n",
       "2016-11-04    0.626972\n",
       "Freq: D, dtype: float64"
      ]
     },
     "execution_count": 21,
     "metadata": {},
     "output_type": "execute_result"
    }
   ],
   "source": [
    "df1.mean(axis=1)"
   ]
  },
  {
   "cell_type": "code",
   "execution_count": 22,
   "metadata": {
    "collapsed": false
   },
   "outputs": [
    {
     "data": {
      "text/html": [
       "<div>\n",
       "<table border=\"1\" class=\"dataframe\">\n",
       "  <thead>\n",
       "    <tr style=\"text-align: right;\">\n",
       "      <th></th>\n",
       "      <th>A</th>\n",
       "      <th>B</th>\n",
       "      <th>C</th>\n",
       "      <th>D</th>\n",
       "      <th>E</th>\n",
       "    </tr>\n",
       "  </thead>\n",
       "  <tbody>\n",
       "    <tr>\n",
       "      <th>2016-11-01</th>\n",
       "      <td>-0.437304</td>\n",
       "      <td>1.460429</td>\n",
       "      <td>-0.059167</td>\n",
       "      <td>0.693487</td>\n",
       "      <td>NaN</td>\n",
       "    </tr>\n",
       "    <tr>\n",
       "      <th>2016-11-02</th>\n",
       "      <td>-0.985018</td>\n",
       "      <td>1.804133</td>\n",
       "      <td>0.749713</td>\n",
       "      <td>-0.382213</td>\n",
       "      <td>2.0</td>\n",
       "    </tr>\n",
       "    <tr>\n",
       "      <th>2016-11-03</th>\n",
       "      <td>-0.176788</td>\n",
       "      <td>2.606667</td>\n",
       "      <td>0.119097</td>\n",
       "      <td>1.084098</td>\n",
       "      <td>4.0</td>\n",
       "    </tr>\n",
       "    <tr>\n",
       "      <th>2016-11-04</th>\n",
       "      <td>0.431644</td>\n",
       "      <td>2.337460</td>\n",
       "      <td>1.541096</td>\n",
       "      <td>1.830765</td>\n",
       "      <td>NaN</td>\n",
       "    </tr>\n",
       "  </tbody>\n",
       "</table>\n",
       "</div>"
      ],
      "text/plain": [
       "                   A         B         C         D    E\n",
       "2016-11-01 -0.437304  1.460429 -0.059167  0.693487  NaN\n",
       "2016-11-02 -0.985018  1.804133  0.749713 -0.382213  2.0\n",
       "2016-11-03 -0.176788  2.606667  0.119097  1.084098  4.0\n",
       "2016-11-04  0.431644  2.337460  1.541096  1.830765  NaN"
      ]
     },
     "execution_count": 22,
     "metadata": {},
     "output_type": "execute_result"
    }
   ],
   "source": [
    "df1.cumsum()"
   ]
  },
  {
   "cell_type": "code",
   "execution_count": 23,
   "metadata": {
    "collapsed": false
   },
   "outputs": [
    {
     "data": {
      "text/html": [
       "<div>\n",
       "<table border=\"1\" class=\"dataframe\">\n",
       "  <thead>\n",
       "    <tr style=\"text-align: right;\">\n",
       "      <th></th>\n",
       "      <th>A</th>\n",
       "      <th>B</th>\n",
       "      <th>C</th>\n",
       "      <th>D</th>\n",
       "    </tr>\n",
       "  </thead>\n",
       "  <tbody>\n",
       "    <tr>\n",
       "      <th>2016-11-01</th>\n",
       "      <td>-0.437304</td>\n",
       "      <td>1.460429</td>\n",
       "      <td>-0.059167</td>\n",
       "      <td>0.693487</td>\n",
       "    </tr>\n",
       "    <tr>\n",
       "      <th>2016-11-02</th>\n",
       "      <td>-0.547714</td>\n",
       "      <td>0.343704</td>\n",
       "      <td>0.808880</td>\n",
       "      <td>-1.075700</td>\n",
       "    </tr>\n",
       "    <tr>\n",
       "      <th>2016-11-03</th>\n",
       "      <td>0.808230</td>\n",
       "      <td>0.802533</td>\n",
       "      <td>-0.630616</td>\n",
       "      <td>1.466312</td>\n",
       "    </tr>\n",
       "    <tr>\n",
       "      <th>2016-11-04</th>\n",
       "      <td>0.608432</td>\n",
       "      <td>-0.269207</td>\n",
       "      <td>1.421999</td>\n",
       "      <td>0.746666</td>\n",
       "    </tr>\n",
       "    <tr>\n",
       "      <th>2016-11-05</th>\n",
       "      <td>-0.650451</td>\n",
       "      <td>-0.727668</td>\n",
       "      <td>0.505484</td>\n",
       "      <td>1.391516</td>\n",
       "    </tr>\n",
       "    <tr>\n",
       "      <th>2016-11-06</th>\n",
       "      <td>-0.897511</td>\n",
       "      <td>-2.960855</td>\n",
       "      <td>-2.714718</td>\n",
       "      <td>-0.099647</td>\n",
       "    </tr>\n",
       "  </tbody>\n",
       "</table>\n",
       "</div>"
      ],
      "text/plain": [
       "                   A         B         C         D\n",
       "2016-11-01 -0.437304  1.460429 -0.059167  0.693487\n",
       "2016-11-02 -0.547714  0.343704  0.808880 -1.075700\n",
       "2016-11-03  0.808230  0.802533 -0.630616  1.466312\n",
       "2016-11-04  0.608432 -0.269207  1.421999  0.746666\n",
       "2016-11-05 -0.650451 -0.727668  0.505484  1.391516\n",
       "2016-11-06 -0.897511 -2.960855 -2.714718 -0.099647"
      ]
     },
     "execution_count": 23,
     "metadata": {},
     "output_type": "execute_result"
    }
   ],
   "source": [
    "df"
   ]
  },
  {
   "cell_type": "code",
   "execution_count": 24,
   "metadata": {
    "collapsed": false
   },
   "outputs": [
    {
     "data": {
      "text/plain": [
       "'C:\\\\Users\\\\samsung1'"
      ]
     },
     "execution_count": 24,
     "metadata": {},
     "output_type": "execute_result"
    }
   ],
   "source": [
    "%pwd\n"
   ]
  },
  {
   "cell_type": "code",
   "execution_count": null,
   "metadata": {
    "collapsed": true
   },
   "outputs": [],
   "source": []
  }
 ],
 "metadata": {
  "kernelspec": {
   "display_name": "Python 3",
   "language": "python",
   "name": "python3"
  },
  "language_info": {
   "codemirror_mode": {
    "name": "ipython",
    "version": 3
   },
   "file_extension": ".py",
   "mimetype": "text/x-python",
   "name": "python",
   "nbconvert_exporter": "python",
   "pygments_lexer": "ipython3",
   "version": "3.5.1"
  }
 },
 "nbformat": 4,
 "nbformat_minor": 1
}
