{
 "cells": [
  {
   "cell_type": "code",
   "execution_count": 1,
   "metadata": {
    "collapsed": true
   },
   "outputs": [],
   "source": [
    "%matplotlib inline\n",
    "import random\n",
    "import numpy as np\n",
    "import pandas as pd\n",
    "import matplotlib.pyplot as plt\n",
    "import pymongo"
   ]
  },
  {
   "cell_type": "code",
   "execution_count": 2,
   "metadata": {
    "collapsed": true
   },
   "outputs": [],
   "source": [
    "client = pymongo.MongoClient('172.16.100.54',27017)\n",
    "target= client['song']"
   ]
  },
  {
   "cell_type": "code",
   "execution_count": 3,
   "metadata": {
    "collapsed": true
   },
   "outputs": [],
   "source": [
    "target_rec = target['target_rec']"
   ]
  },
  {
   "cell_type": "code",
   "execution_count": null,
   "metadata": {
    "collapsed": false,
    "scrolled": false
   },
   "outputs": [],
   "source": [
    "cursor = target_rec.find()\n",
    "index=['Target_ID','Pin_ID','Target_Access_DT']\n",
    "result = pd.DataFrame(list(cursor),columns=index)\n",
    "result.head()"
   ]
  },
  {
   "cell_type": "code",
   "execution_count": 6,
   "metadata": {
    "collapsed": true
   },
   "outputs": [
    {
     "data": {
      "text/plain": [
       "Target_ID          Pin_ID\n",
       "00-08-22-C6-A6-9A  100          8\n",
       "                   112          7\n",
       "                   114          4\n",
       "                   116          2\n",
       "00-08-CA-6D-17-DA  105         20\n",
       "                   109         16\n",
       "00-16-6D-F4-29-FE  100        149\n",
       "00-19-E0-87-5A-87  112         73\n",
       "00-1E-64-D5-CF-82  103       1023\n",
       "                   112       1365\n",
       "00-21-6B-C7-30-8A  110        308\n",
       "00-22-FB-C0-D3-7A  110         52\n",
       "00-26-82-47-BD-9A  107        164\n",
       "00-26-C7-8A-82-F2  109        234\n",
       "00-6D-52-64-7D-6E  100         67\n",
       "                   102          1\n",
       "                   116         32\n",
       "00-71-CC-22-6C-4D  106         31\n",
       "                   115         17\n",
       "                   119        150\n",
       "dtype: int64"
      ]
     },
     "execution_count": 6,
     "metadata": {},
     "output_type": "execute_result"
    }
   ],
   "source": [
    "data = result.groupby([result['Target_ID'],result['Pin_ID']]).size().T\n",
    "data.head(20)"
   ]
  },
  {
   "cell_type": "code",
   "execution_count": 7,
   "metadata": {
    "collapsed": false
   },
   "outputs": [
    {
     "data": {
      "text/plain": [
       "Pin_ID\n",
       "100    149\n",
       "dtype: int64"
      ]
     },
     "execution_count": 7,
     "metadata": {},
     "output_type": "execute_result"
    }
   ],
   "source": [
    "data['00-16-6D-F4-29-FE']"
   ]
  },
  {
   "cell_type": "code",
   "execution_count": 8,
   "metadata": {
    "collapsed": false
   },
   "outputs": [
    {
     "data": {
      "text/plain": [
       "Pin_ID\n",
       "100    67\n",
       "102     1\n",
       "116    32\n",
       "dtype: int64"
      ]
     },
     "execution_count": 8,
     "metadata": {},
     "output_type": "execute_result"
    }
   ],
   "source": [
    "data['00-6D-52-64-7D-6E']"
   ]
  },
  {
   "cell_type": "code",
   "execution_count": null,
   "metadata": {
    "collapsed": true
   },
   "outputs": [],
   "source": []
  }
 ],
 "metadata": {
  "kernelspec": {
   "display_name": "Python 3",
   "language": "python",
   "name": "python3"
  },
  "language_info": {
   "codemirror_mode": {
    "name": "ipython",
    "version": 3
   },
   "file_extension": ".py",
   "mimetype": "text/x-python",
   "name": "python",
   "nbconvert_exporter": "python",
   "pygments_lexer": "ipython3",
   "version": "3.5.1"
  }
 },
 "nbformat": 4,
 "nbformat_minor": 1
}
