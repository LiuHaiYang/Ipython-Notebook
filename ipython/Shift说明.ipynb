{
 "cells": [
  {
   "cell_type": "code",
   "execution_count": 2,
   "metadata": {
    "collapsed": true
   },
   "outputs": [],
   "source": [
    "%matplotlib inline\n",
    "import random\n",
    "import numpy as np\n",
    "import pandas as pd\n",
    "import matplotlib.pyplot as plt"
   ]
  },
  {
   "cell_type": "code",
   "execution_count": 3,
   "metadata": {
    "collapsed": false
   },
   "outputs": [
    {
     "data": {
      "text/html": [
       "<div>\n",
       "<table border=\"1\" class=\"dataframe\">\n",
       "  <thead>\n",
       "    <tr style=\"text-align: right;\">\n",
       "      <th></th>\n",
       "      <th>A</th>\n",
       "      <th>B</th>\n",
       "      <th>C</th>\n",
       "      <th>D</th>\n",
       "    </tr>\n",
       "  </thead>\n",
       "  <tbody>\n",
       "    <tr>\n",
       "      <th>2012-03-01</th>\n",
       "      <td>0.487818</td>\n",
       "      <td>0.567962</td>\n",
       "      <td>0.258825</td>\n",
       "      <td>0.099076</td>\n",
       "    </tr>\n",
       "    <tr>\n",
       "      <th>2012-03-02</th>\n",
       "      <td>0.943215</td>\n",
       "      <td>0.301957</td>\n",
       "      <td>0.947733</td>\n",
       "      <td>0.794617</td>\n",
       "    </tr>\n",
       "    <tr>\n",
       "      <th>2012-03-03</th>\n",
       "      <td>0.837243</td>\n",
       "      <td>0.952549</td>\n",
       "      <td>0.641958</td>\n",
       "      <td>0.478233</td>\n",
       "    </tr>\n",
       "    <tr>\n",
       "      <th>2012-03-04</th>\n",
       "      <td>0.196540</td>\n",
       "      <td>0.897020</td>\n",
       "      <td>0.760969</td>\n",
       "      <td>0.607327</td>\n",
       "    </tr>\n",
       "    <tr>\n",
       "      <th>2012-03-05</th>\n",
       "      <td>0.186922</td>\n",
       "      <td>0.797985</td>\n",
       "      <td>0.088732</td>\n",
       "      <td>0.166751</td>\n",
       "    </tr>\n",
       "    <tr>\n",
       "      <th>2012-03-06</th>\n",
       "      <td>0.626381</td>\n",
       "      <td>0.703757</td>\n",
       "      <td>0.136357</td>\n",
       "      <td>0.925089</td>\n",
       "    </tr>\n",
       "  </tbody>\n",
       "</table>\n",
       "</div>"
      ],
      "text/plain": [
       "                   A         B         C         D\n",
       "2012-03-01  0.487818  0.567962  0.258825  0.099076\n",
       "2012-03-02  0.943215  0.301957  0.947733  0.794617\n",
       "2012-03-03  0.837243  0.952549  0.641958  0.478233\n",
       "2012-03-04  0.196540  0.897020  0.760969  0.607327\n",
       "2012-03-05  0.186922  0.797985  0.088732  0.166751\n",
       "2012-03-06  0.626381  0.703757  0.136357  0.925089"
      ]
     },
     "execution_count": 3,
     "metadata": {},
     "output_type": "execute_result"
    }
   ],
   "source": [
    "dates = pd.date_range('20120301',periods=6)\n",
    "df=pd.DataFrame(np.random.rand(6,4),index=dates,columns=list('ABCD'))\n",
    "df"
   ]
  },
  {
   "cell_type": "code",
   "execution_count": 4,
   "metadata": {
    "collapsed": false
   },
   "outputs": [
    {
     "data": {
      "text/plain": [
       "2012-03-01    1.0\n",
       "2012-03-02    3.0\n",
       "2012-03-03    5.0\n",
       "2012-03-04    NaN\n",
       "2012-03-05    6.0\n",
       "2012-03-06    8.0\n",
       "Freq: D, dtype: float64"
      ]
     },
     "execution_count": 4,
     "metadata": {},
     "output_type": "execute_result"
    }
   ],
   "source": [
    "s = pd.Series([1,3,5,np.nan,6,8],index=dates)\n",
    "s"
   ]
  },
  {
   "cell_type": "code",
   "execution_count": 5,
   "metadata": {
    "collapsed": false
   },
   "outputs": [
    {
     "data": {
      "text/plain": [
       "2012-03-01    NaN\n",
       "2012-03-02    NaN\n",
       "2012-03-03    NaN\n",
       "2012-03-04    1.0\n",
       "2012-03-05    3.0\n",
       "2012-03-06    5.0\n",
       "Freq: D, dtype: float64"
      ]
     },
     "execution_count": 5,
     "metadata": {},
     "output_type": "execute_result"
    }
   ],
   "source": [
    "s1 = pd.Series([1,3,5,np.nan,6,8],index=dates).shift(3)\n",
    "s1 #依次向下填NaN"
   ]
  },
  {
   "cell_type": "code",
   "execution_count": 7,
   "metadata": {
    "collapsed": false
   },
   "outputs": [
    {
     "data": {
      "text/html": [
       "<div>\n",
       "<table border=\"1\" class=\"dataframe\">\n",
       "  <thead>\n",
       "    <tr style=\"text-align: right;\">\n",
       "      <th></th>\n",
       "      <th>A</th>\n",
       "      <th>B</th>\n",
       "      <th>C</th>\n",
       "      <th>D</th>\n",
       "    </tr>\n",
       "  </thead>\n",
       "  <tbody>\n",
       "    <tr>\n",
       "      <th>2012-03-01</th>\n",
       "      <td>NaN</td>\n",
       "      <td>NaN</td>\n",
       "      <td>NaN</td>\n",
       "      <td>NaN</td>\n",
       "    </tr>\n",
       "    <tr>\n",
       "      <th>2012-03-02</th>\n",
       "      <td>NaN</td>\n",
       "      <td>NaN</td>\n",
       "      <td>NaN</td>\n",
       "      <td>NaN</td>\n",
       "    </tr>\n",
       "    <tr>\n",
       "      <th>2012-03-03</th>\n",
       "      <td>NaN</td>\n",
       "      <td>NaN</td>\n",
       "      <td>NaN</td>\n",
       "      <td>NaN</td>\n",
       "    </tr>\n",
       "    <tr>\n",
       "      <th>2012-03-04</th>\n",
       "      <td>0.487818</td>\n",
       "      <td>0.567962</td>\n",
       "      <td>0.258825</td>\n",
       "      <td>0.099076</td>\n",
       "    </tr>\n",
       "    <tr>\n",
       "      <th>2012-03-05</th>\n",
       "      <td>0.943215</td>\n",
       "      <td>0.301957</td>\n",
       "      <td>0.947733</td>\n",
       "      <td>0.794617</td>\n",
       "    </tr>\n",
       "    <tr>\n",
       "      <th>2012-03-06</th>\n",
       "      <td>0.837243</td>\n",
       "      <td>0.952549</td>\n",
       "      <td>0.641958</td>\n",
       "      <td>0.478233</td>\n",
       "    </tr>\n",
       "  </tbody>\n",
       "</table>\n",
       "</div>"
      ],
      "text/plain": [
       "                   A         B         C         D\n",
       "2012-03-01       NaN       NaN       NaN       NaN\n",
       "2012-03-02       NaN       NaN       NaN       NaN\n",
       "2012-03-03       NaN       NaN       NaN       NaN\n",
       "2012-03-04  0.487818  0.567962  0.258825  0.099076\n",
       "2012-03-05  0.943215  0.301957  0.947733  0.794617\n",
       "2012-03-06  0.837243  0.952549  0.641958  0.478233"
      ]
     },
     "execution_count": 7,
     "metadata": {},
     "output_type": "execute_result"
    }
   ],
   "source": [
    "df1 = df.shift(3)\n",
    "df1"
   ]
  },
  {
   "cell_type": "code",
   "execution_count": null,
   "metadata": {
    "collapsed": true
   },
   "outputs": [],
   "source": []
  }
 ],
 "metadata": {
  "kernelspec": {
   "display_name": "Python 3",
   "language": "python",
   "name": "python3"
  },
  "language_info": {
   "codemirror_mode": {
    "name": "ipython",
    "version": 3
   },
   "file_extension": ".py",
   "mimetype": "text/x-python",
   "name": "python",
   "nbconvert_exporter": "python",
   "pygments_lexer": "ipython3",
   "version": "3.5.1"
  }
 },
 "nbformat": 4,
 "nbformat_minor": 1
}
